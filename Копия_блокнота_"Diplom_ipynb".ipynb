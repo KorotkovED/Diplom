{
  "cells": [
    {
      "cell_type": "markdown",
      "metadata": {
        "id": "view-in-github",
        "colab_type": "text"
      },
      "source": [
        "<a href=\"https://colab.research.google.com/github/KorotkovED/Diplom/blob/main/%D0%9A%D0%BE%D0%BF%D0%B8%D1%8F_%D0%B1%D0%BB%D0%BE%D0%BA%D0%BD%D0%BE%D1%82%D0%B0_%22Diplom_ipynb%22.ipynb\" target=\"_parent\"><img src=\"https://colab.research.google.com/assets/colab-badge.svg\" alt=\"Open In Colab\"/></a>"
      ]
    },
    {
      "cell_type": "markdown",
      "id": "065703ae",
      "metadata": {
        "id": "065703ae"
      },
      "source": [
        "# ДИПЛОМ"
      ]
    },
    {
      "cell_type": "code",
      "source": [
        "from google.colab import drive\n",
        "drive.mount('/content/drive')"
      ],
      "metadata": {
        "id": "y8f-SypqKqNQ",
        "colab": {
          "base_uri": "https://localhost:8080/"
        },
        "outputId": "aca171ad-3279-4f3f-bc7a-9af642a4750e"
      },
      "id": "y8f-SypqKqNQ",
      "execution_count": 1,
      "outputs": [
        {
          "output_type": "stream",
          "name": "stdout",
          "text": [
            "Drive already mounted at /content/drive; to attempt to forcibly remount, call drive.mount(\"/content/drive\", force_remount=True).\n"
          ]
        }
      ]
    },
    {
      "cell_type": "markdown",
      "id": "72ba0e58",
      "metadata": {
        "id": "72ba0e58"
      },
      "source": [
        "## Часть 1"
      ]
    },
    {
      "cell_type": "markdown",
      "id": "7230fa25",
      "metadata": {
        "id": "7230fa25"
      },
      "source": [
        "### Изучение исходных данных и предметной области. Отбор признаков запросов, которые можно использовать при решении задачи и обоснование данного выбора."
      ]
    },
    {
      "cell_type": "code",
      "execution_count": 1,
      "id": "771dea8b",
      "metadata": {
        "id": "771dea8b",
        "outputId": "0e509a99-ef8e-4c65-c9f1-726dae5f9639",
        "colab": {
          "base_uri": "https://localhost:8080/"
        }
      },
      "outputs": [
        {
          "output_type": "stream",
          "name": "stdout",
          "text": [
            "Requirement already satisfied: pandas in /usr/local/lib/python3.10/dist-packages (1.5.3)\n",
            "Requirement already satisfied: python-dateutil>=2.8.1 in /usr/local/lib/python3.10/dist-packages (from pandas) (2.8.2)\n",
            "Requirement already satisfied: pytz>=2020.1 in /usr/local/lib/python3.10/dist-packages (from pandas) (2023.3.post1)\n",
            "Requirement already satisfied: numpy>=1.21.0 in /usr/local/lib/python3.10/dist-packages (from pandas) (1.23.5)\n",
            "Requirement already satisfied: six>=1.5 in /usr/local/lib/python3.10/dist-packages (from python-dateutil>=2.8.1->pandas) (1.16.0)\n"
          ]
        }
      ],
      "source": [
        "pip install pandas\n"
      ]
    },
    {
      "cell_type": "code",
      "execution_count": 2,
      "id": "3483e74f",
      "metadata": {
        "id": "3483e74f",
        "outputId": "465b4283-041e-4016-d83e-4d363cb8688a",
        "colab": {
          "base_uri": "https://localhost:8080/"
        }
      },
      "outputs": [
        {
          "output_type": "stream",
          "name": "stdout",
          "text": [
            "Requirement already satisfied: retentioneering in /usr/local/lib/python3.10/dist-packages (3.1.0)\n",
            "Requirement already satisfied: docrep<0.4.0,>=0.3.2 in /usr/local/lib/python3.10/dist-packages (from retentioneering) (0.3.2)\n",
            "Requirement already satisfied: ipykernel==5.5.6 in /usr/local/lib/python3.10/dist-packages (from retentioneering) (5.5.6)\n",
            "Requirement already satisfied: ipython==7.34.0 in /usr/local/lib/python3.10/dist-packages (from retentioneering) (7.34.0)\n",
            "Requirement already satisfied: ipywidgets!=8.0.5,>=8.0.4 in /usr/local/lib/python3.10/dist-packages (from retentioneering) (8.1.1)\n",
            "Requirement already satisfied: jupyterlab>=3.4.7 in /usr/local/lib/python3.10/dist-packages (from retentioneering) (3.6.6)\n",
            "Requirement already satisfied: matplotlib==3.7.2 in /usr/local/lib/python3.10/dist-packages (from retentioneering) (3.7.2)\n",
            "Requirement already satisfied: nanoid<3.0.0,>=2.0.0 in /usr/local/lib/python3.10/dist-packages (from retentioneering) (2.0.0)\n",
            "Requirement already satisfied: networkx==2.8.6 in /usr/local/lib/python3.10/dist-packages (from retentioneering) (2.8.6)\n",
            "Requirement already satisfied: notebook>=6.5.6 in /usr/local/lib/python3.10/dist-packages (from retentioneering) (6.5.6)\n",
            "Requirement already satisfied: numpy!=1.24,>=1.22 in /usr/local/lib/python3.10/dist-packages (from retentioneering) (1.23.5)\n",
            "Requirement already satisfied: pandas<2.0.0,>=1.5.0 in /usr/local/lib/python3.10/dist-packages (from retentioneering) (1.5.3)\n",
            "Requirement already satisfied: plotly>=5.10.0 in /usr/local/lib/python3.10/dist-packages (from retentioneering) (5.15.0)\n",
            "Requirement already satisfied: pydantic<2,>=1.10.2 in /usr/local/lib/python3.10/dist-packages (from retentioneering) (1.10.13)\n",
            "Requirement already satisfied: pyzmq==23.2.1 in /usr/local/lib/python3.10/dist-packages (from retentioneering) (23.2.1)\n",
            "Requirement already satisfied: scikit-learn<1.3.0,>=1.2.0 in /usr/local/lib/python3.10/dist-packages (from retentioneering) (1.2.2)\n",
            "Requirement already satisfied: scipy>=1.11.2 in /usr/local/lib/python3.10/dist-packages (from retentioneering) (1.11.3)\n",
            "Requirement already satisfied: seaborn>=0.12.1 in /usr/local/lib/python3.10/dist-packages (from retentioneering) (0.12.2)\n",
            "Requirement already satisfied: statsmodels>=0.14.0 in /usr/local/lib/python3.10/dist-packages (from retentioneering) (0.14.0)\n",
            "Requirement already satisfied: tornado==6.3.2 in /usr/local/lib/python3.10/dist-packages (from retentioneering) (6.3.2)\n",
            "Requirement already satisfied: umap-learn>=0.5.3 in /usr/local/lib/python3.10/dist-packages (from retentioneering) (0.5.4)\n",
            "Requirement already satisfied: virtualenv>=20.17 in /usr/local/lib/python3.10/dist-packages (from retentioneering) (20.24.6)\n",
            "Requirement already satisfied: ipython-genutils in /usr/local/lib/python3.10/dist-packages (from ipykernel==5.5.6->retentioneering) (0.2.0)\n",
            "Requirement already satisfied: traitlets>=4.1.0 in /usr/local/lib/python3.10/dist-packages (from ipykernel==5.5.6->retentioneering) (5.7.1)\n",
            "Requirement already satisfied: jupyter-client in /usr/local/lib/python3.10/dist-packages (from ipykernel==5.5.6->retentioneering) (6.1.12)\n",
            "Requirement already satisfied: setuptools>=18.5 in /usr/local/lib/python3.10/dist-packages (from ipython==7.34.0->retentioneering) (67.7.2)\n",
            "Requirement already satisfied: jedi>=0.16 in /usr/local/lib/python3.10/dist-packages (from ipython==7.34.0->retentioneering) (0.19.1)\n",
            "Requirement already satisfied: decorator in /usr/local/lib/python3.10/dist-packages (from ipython==7.34.0->retentioneering) (4.4.2)\n",
            "Requirement already satisfied: pickleshare in /usr/local/lib/python3.10/dist-packages (from ipython==7.34.0->retentioneering) (0.7.5)\n",
            "Requirement already satisfied: prompt-toolkit!=3.0.0,!=3.0.1,<3.1.0,>=2.0.0 in /usr/local/lib/python3.10/dist-packages (from ipython==7.34.0->retentioneering) (3.0.39)\n",
            "Requirement already satisfied: pygments in /usr/local/lib/python3.10/dist-packages (from ipython==7.34.0->retentioneering) (2.16.1)\n",
            "Requirement already satisfied: backcall in /usr/local/lib/python3.10/dist-packages (from ipython==7.34.0->retentioneering) (0.2.0)\n",
            "Requirement already satisfied: matplotlib-inline in /usr/local/lib/python3.10/dist-packages (from ipython==7.34.0->retentioneering) (0.1.6)\n",
            "Requirement already satisfied: pexpect>4.3 in /usr/local/lib/python3.10/dist-packages (from ipython==7.34.0->retentioneering) (4.8.0)\n",
            "Requirement already satisfied: contourpy>=1.0.1 in /usr/local/lib/python3.10/dist-packages (from matplotlib==3.7.2->retentioneering) (1.1.1)\n",
            "Requirement already satisfied: cycler>=0.10 in /usr/local/lib/python3.10/dist-packages (from matplotlib==3.7.2->retentioneering) (0.12.1)\n",
            "Requirement already satisfied: fonttools>=4.22.0 in /usr/local/lib/python3.10/dist-packages (from matplotlib==3.7.2->retentioneering) (4.43.1)\n",
            "Requirement already satisfied: kiwisolver>=1.0.1 in /usr/local/lib/python3.10/dist-packages (from matplotlib==3.7.2->retentioneering) (1.4.5)\n",
            "Requirement already satisfied: packaging>=20.0 in /usr/local/lib/python3.10/dist-packages (from matplotlib==3.7.2->retentioneering) (23.2)\n",
            "Requirement already satisfied: pillow>=6.2.0 in /usr/local/lib/python3.10/dist-packages (from matplotlib==3.7.2->retentioneering) (9.4.0)\n",
            "Requirement already satisfied: pyparsing<3.1,>=2.3.1 in /usr/local/lib/python3.10/dist-packages (from matplotlib==3.7.2->retentioneering) (3.0.9)\n",
            "Requirement already satisfied: python-dateutil>=2.7 in /usr/local/lib/python3.10/dist-packages (from matplotlib==3.7.2->retentioneering) (2.8.2)\n",
            "Requirement already satisfied: six in /usr/local/lib/python3.10/dist-packages (from docrep<0.4.0,>=0.3.2->retentioneering) (1.16.0)\n",
            "Requirement already satisfied: comm>=0.1.3 in /usr/local/lib/python3.10/dist-packages (from ipywidgets!=8.0.5,>=8.0.4->retentioneering) (0.1.4)\n",
            "Requirement already satisfied: widgetsnbextension~=4.0.9 in /usr/local/lib/python3.10/dist-packages (from ipywidgets!=8.0.5,>=8.0.4->retentioneering) (4.0.9)\n",
            "Requirement already satisfied: jupyterlab-widgets~=3.0.9 in /usr/local/lib/python3.10/dist-packages (from ipywidgets!=8.0.5,>=8.0.4->retentioneering) (3.0.9)\n",
            "Requirement already satisfied: jupyter-core in /usr/local/lib/python3.10/dist-packages (from jupyterlab>=3.4.7->retentioneering) (5.4.0)\n",
            "Requirement already satisfied: jupyterlab-server~=2.19 in /usr/local/lib/python3.10/dist-packages (from jupyterlab>=3.4.7->retentioneering) (2.25.0)\n",
            "Requirement already satisfied: jupyter-server<3,>=1.16.0 in /usr/local/lib/python3.10/dist-packages (from jupyterlab>=3.4.7->retentioneering) (1.24.0)\n",
            "Requirement already satisfied: jupyter-ydoc~=0.2.4 in /usr/local/lib/python3.10/dist-packages (from jupyterlab>=3.4.7->retentioneering) (0.2.5)\n",
            "Requirement already satisfied: jupyter-server-ydoc~=0.8.0 in /usr/local/lib/python3.10/dist-packages (from jupyterlab>=3.4.7->retentioneering) (0.8.0)\n",
            "Requirement already satisfied: nbclassic in /usr/local/lib/python3.10/dist-packages (from jupyterlab>=3.4.7->retentioneering) (1.0.0)\n",
            "Requirement already satisfied: jinja2>=2.1 in /usr/local/lib/python3.10/dist-packages (from jupyterlab>=3.4.7->retentioneering) (3.1.2)\n",
            "Requirement already satisfied: tomli in /usr/local/lib/python3.10/dist-packages (from jupyterlab>=3.4.7->retentioneering) (2.0.1)\n",
            "Requirement already satisfied: argon2-cffi in /usr/local/lib/python3.10/dist-packages (from notebook>=6.5.6->retentioneering) (23.1.0)\n",
            "Requirement already satisfied: nbformat in /usr/local/lib/python3.10/dist-packages (from notebook>=6.5.6->retentioneering) (5.9.2)\n",
            "Requirement already satisfied: nbconvert>=5 in /usr/local/lib/python3.10/dist-packages (from notebook>=6.5.6->retentioneering) (6.5.4)\n",
            "Requirement already satisfied: nest-asyncio>=1.5 in /usr/local/lib/python3.10/dist-packages (from notebook>=6.5.6->retentioneering) (1.5.8)\n",
            "Requirement already satisfied: Send2Trash>=1.8.0 in /usr/local/lib/python3.10/dist-packages (from notebook>=6.5.6->retentioneering) (1.8.2)\n",
            "Requirement already satisfied: terminado>=0.8.3 in /usr/local/lib/python3.10/dist-packages (from notebook>=6.5.6->retentioneering) (0.17.1)\n",
            "Requirement already satisfied: prometheus-client in /usr/local/lib/python3.10/dist-packages (from notebook>=6.5.6->retentioneering) (0.17.1)\n",
            "Requirement already satisfied: pytz>=2020.1 in /usr/local/lib/python3.10/dist-packages (from pandas<2.0.0,>=1.5.0->retentioneering) (2023.3.post1)\n",
            "Requirement already satisfied: tenacity>=6.2.0 in /usr/local/lib/python3.10/dist-packages (from plotly>=5.10.0->retentioneering) (8.2.3)\n",
            "Requirement already satisfied: typing-extensions>=4.2.0 in /usr/local/lib/python3.10/dist-packages (from pydantic<2,>=1.10.2->retentioneering) (4.5.0)\n",
            "Requirement already satisfied: joblib>=1.1.1 in /usr/local/lib/python3.10/dist-packages (from scikit-learn<1.3.0,>=1.2.0->retentioneering) (1.3.2)\n",
            "Requirement already satisfied: threadpoolctl>=2.0.0 in /usr/local/lib/python3.10/dist-packages (from scikit-learn<1.3.0,>=1.2.0->retentioneering) (3.2.0)\n",
            "Requirement already satisfied: patsy>=0.5.2 in /usr/local/lib/python3.10/dist-packages (from statsmodels>=0.14.0->retentioneering) (0.5.3)\n",
            "Requirement already satisfied: numba>=0.51.2 in /usr/local/lib/python3.10/dist-packages (from umap-learn>=0.5.3->retentioneering) (0.56.4)\n",
            "Requirement already satisfied: pynndescent>=0.5 in /usr/local/lib/python3.10/dist-packages (from umap-learn>=0.5.3->retentioneering) (0.5.10)\n",
            "Requirement already satisfied: tqdm in /usr/local/lib/python3.10/dist-packages (from umap-learn>=0.5.3->retentioneering) (4.66.1)\n",
            "Requirement already satisfied: tbb>=2019.0 in /usr/local/lib/python3.10/dist-packages (from umap-learn>=0.5.3->retentioneering) (2021.10.0)\n",
            "Requirement already satisfied: distlib<1,>=0.3.7 in /usr/local/lib/python3.10/dist-packages (from virtualenv>=20.17->retentioneering) (0.3.7)\n",
            "Requirement already satisfied: filelock<4,>=3.12.2 in /usr/local/lib/python3.10/dist-packages (from virtualenv>=20.17->retentioneering) (3.12.4)\n",
            "Requirement already satisfied: platformdirs<4,>=3.9.1 in /usr/local/lib/python3.10/dist-packages (from virtualenv>=20.17->retentioneering) (3.11.0)\n",
            "Requirement already satisfied: parso<0.9.0,>=0.8.3 in /usr/local/lib/python3.10/dist-packages (from jedi>=0.16->ipython==7.34.0->retentioneering) (0.8.3)\n",
            "Requirement already satisfied: MarkupSafe>=2.0 in /usr/local/lib/python3.10/dist-packages (from jinja2>=2.1->jupyterlab>=3.4.7->retentioneering) (2.1.3)\n",
            "Requirement already satisfied: anyio<4,>=3.1.0 in /usr/local/lib/python3.10/dist-packages (from jupyter-server<3,>=1.16.0->jupyterlab>=3.4.7->retentioneering) (3.7.1)\n",
            "Requirement already satisfied: websocket-client in /usr/local/lib/python3.10/dist-packages (from jupyter-server<3,>=1.16.0->jupyterlab>=3.4.7->retentioneering) (1.6.4)\n",
            "Requirement already satisfied: jupyter-server-fileid<1,>=0.6.0 in /usr/local/lib/python3.10/dist-packages (from jupyter-server-ydoc~=0.8.0->jupyterlab>=3.4.7->retentioneering) (0.9.0)\n",
            "Requirement already satisfied: ypy-websocket<0.9.0,>=0.8.2 in /usr/local/lib/python3.10/dist-packages (from jupyter-server-ydoc~=0.8.0->jupyterlab>=3.4.7->retentioneering) (0.8.4)\n",
            "Requirement already satisfied: y-py<0.7.0,>=0.6.0 in /usr/local/lib/python3.10/dist-packages (from jupyter-ydoc~=0.2.4->jupyterlab>=3.4.7->retentioneering) (0.6.2)\n",
            "Requirement already satisfied: babel>=2.10 in /usr/local/lib/python3.10/dist-packages (from jupyterlab-server~=2.19->jupyterlab>=3.4.7->retentioneering) (2.13.1)\n",
            "Requirement already satisfied: json5>=0.9.0 in /usr/local/lib/python3.10/dist-packages (from jupyterlab-server~=2.19->jupyterlab>=3.4.7->retentioneering) (0.9.14)\n",
            "Requirement already satisfied: jsonschema>=4.18.0 in /usr/local/lib/python3.10/dist-packages (from jupyterlab-server~=2.19->jupyterlab>=3.4.7->retentioneering) (4.19.1)\n",
            "Requirement already satisfied: requests>=2.31 in /usr/local/lib/python3.10/dist-packages (from jupyterlab-server~=2.19->jupyterlab>=3.4.7->retentioneering) (2.31.0)\n",
            "Requirement already satisfied: notebook-shim>=0.2.3 in /usr/local/lib/python3.10/dist-packages (from nbclassic->jupyterlab>=3.4.7->retentioneering) (0.2.3)\n",
            "Requirement already satisfied: lxml in /usr/local/lib/python3.10/dist-packages (from nbconvert>=5->notebook>=6.5.6->retentioneering) (4.9.3)\n",
            "Requirement already satisfied: beautifulsoup4 in /usr/local/lib/python3.10/dist-packages (from nbconvert>=5->notebook>=6.5.6->retentioneering) (4.11.2)\n",
            "Requirement already satisfied: bleach in /usr/local/lib/python3.10/dist-packages (from nbconvert>=5->notebook>=6.5.6->retentioneering) (6.1.0)\n",
            "Requirement already satisfied: defusedxml in /usr/local/lib/python3.10/dist-packages (from nbconvert>=5->notebook>=6.5.6->retentioneering) (0.7.1)\n",
            "Requirement already satisfied: entrypoints>=0.2.2 in /usr/local/lib/python3.10/dist-packages (from nbconvert>=5->notebook>=6.5.6->retentioneering) (0.4)\n",
            "Requirement already satisfied: jupyterlab-pygments in /usr/local/lib/python3.10/dist-packages (from nbconvert>=5->notebook>=6.5.6->retentioneering) (0.2.2)\n",
            "Requirement already satisfied: mistune<2,>=0.8.1 in /usr/local/lib/python3.10/dist-packages (from nbconvert>=5->notebook>=6.5.6->retentioneering) (0.8.4)\n",
            "Requirement already satisfied: nbclient>=0.5.0 in /usr/local/lib/python3.10/dist-packages (from nbconvert>=5->notebook>=6.5.6->retentioneering) (0.8.0)\n",
            "Requirement already satisfied: pandocfilters>=1.4.1 in /usr/local/lib/python3.10/dist-packages (from nbconvert>=5->notebook>=6.5.6->retentioneering) (1.5.0)\n",
            "Requirement already satisfied: tinycss2 in /usr/local/lib/python3.10/dist-packages (from nbconvert>=5->notebook>=6.5.6->retentioneering) (1.2.1)\n",
            "Requirement already satisfied: fastjsonschema in /usr/local/lib/python3.10/dist-packages (from nbformat->notebook>=6.5.6->retentioneering) (2.18.1)\n",
            "Requirement already satisfied: llvmlite<0.40,>=0.39.0dev0 in /usr/local/lib/python3.10/dist-packages (from numba>=0.51.2->umap-learn>=0.5.3->retentioneering) (0.39.1)\n",
            "Requirement already satisfied: ptyprocess>=0.5 in /usr/local/lib/python3.10/dist-packages (from pexpect>4.3->ipython==7.34.0->retentioneering) (0.7.0)\n",
            "Requirement already satisfied: wcwidth in /usr/local/lib/python3.10/dist-packages (from prompt-toolkit!=3.0.0,!=3.0.1,<3.1.0,>=2.0.0->ipython==7.34.0->retentioneering) (0.2.8)\n",
            "Requirement already satisfied: argon2-cffi-bindings in /usr/local/lib/python3.10/dist-packages (from argon2-cffi->notebook>=6.5.6->retentioneering) (21.2.0)\n",
            "Requirement already satisfied: idna>=2.8 in /usr/local/lib/python3.10/dist-packages (from anyio<4,>=3.1.0->jupyter-server<3,>=1.16.0->jupyterlab>=3.4.7->retentioneering) (3.4)\n",
            "Requirement already satisfied: sniffio>=1.1 in /usr/local/lib/python3.10/dist-packages (from anyio<4,>=3.1.0->jupyter-server<3,>=1.16.0->jupyterlab>=3.4.7->retentioneering) (1.3.0)\n",
            "Requirement already satisfied: exceptiongroup in /usr/local/lib/python3.10/dist-packages (from anyio<4,>=3.1.0->jupyter-server<3,>=1.16.0->jupyterlab>=3.4.7->retentioneering) (1.1.3)\n",
            "Requirement already satisfied: attrs>=22.2.0 in /usr/local/lib/python3.10/dist-packages (from jsonschema>=4.18.0->jupyterlab-server~=2.19->jupyterlab>=3.4.7->retentioneering) (23.1.0)\n",
            "Requirement already satisfied: jsonschema-specifications>=2023.03.6 in /usr/local/lib/python3.10/dist-packages (from jsonschema>=4.18.0->jupyterlab-server~=2.19->jupyterlab>=3.4.7->retentioneering) (2023.7.1)\n",
            "Requirement already satisfied: referencing>=0.28.4 in /usr/local/lib/python3.10/dist-packages (from jsonschema>=4.18.0->jupyterlab-server~=2.19->jupyterlab>=3.4.7->retentioneering) (0.30.2)\n",
            "Requirement already satisfied: rpds-py>=0.7.1 in /usr/local/lib/python3.10/dist-packages (from jsonschema>=4.18.0->jupyterlab-server~=2.19->jupyterlab>=3.4.7->retentioneering) (0.10.6)\n",
            "Requirement already satisfied: jupyter-events>=0.5.0 in /usr/local/lib/python3.10/dist-packages (from jupyter-server-fileid<1,>=0.6.0->jupyter-server-ydoc~=0.8.0->jupyterlab>=3.4.7->retentioneering) (0.8.0)\n",
            "Requirement already satisfied: charset-normalizer<4,>=2 in /usr/local/lib/python3.10/dist-packages (from requests>=2.31->jupyterlab-server~=2.19->jupyterlab>=3.4.7->retentioneering) (3.3.1)\n",
            "Requirement already satisfied: urllib3<3,>=1.21.1 in /usr/local/lib/python3.10/dist-packages (from requests>=2.31->jupyterlab-server~=2.19->jupyterlab>=3.4.7->retentioneering) (2.0.7)\n",
            "Requirement already satisfied: certifi>=2017.4.17 in /usr/local/lib/python3.10/dist-packages (from requests>=2.31->jupyterlab-server~=2.19->jupyterlab>=3.4.7->retentioneering) (2023.7.22)\n",
            "Requirement already satisfied: aiofiles<23,>=22.1.0 in /usr/local/lib/python3.10/dist-packages (from ypy-websocket<0.9.0,>=0.8.2->jupyter-server-ydoc~=0.8.0->jupyterlab>=3.4.7->retentioneering) (22.1.0)\n",
            "Requirement already satisfied: aiosqlite<1,>=0.17.0 in /usr/local/lib/python3.10/dist-packages (from ypy-websocket<0.9.0,>=0.8.2->jupyter-server-ydoc~=0.8.0->jupyterlab>=3.4.7->retentioneering) (0.19.0)\n",
            "Requirement already satisfied: cffi>=1.0.1 in /usr/local/lib/python3.10/dist-packages (from argon2-cffi-bindings->argon2-cffi->notebook>=6.5.6->retentioneering) (1.16.0)\n",
            "Requirement already satisfied: soupsieve>1.2 in /usr/local/lib/python3.10/dist-packages (from beautifulsoup4->nbconvert>=5->notebook>=6.5.6->retentioneering) (2.5)\n",
            "Requirement already satisfied: webencodings in /usr/local/lib/python3.10/dist-packages (from bleach->nbconvert>=5->notebook>=6.5.6->retentioneering) (0.5.1)\n",
            "Requirement already satisfied: pycparser in /usr/local/lib/python3.10/dist-packages (from cffi>=1.0.1->argon2-cffi-bindings->argon2-cffi->notebook>=6.5.6->retentioneering) (2.21)\n",
            "Requirement already satisfied: python-json-logger>=2.0.4 in /usr/local/lib/python3.10/dist-packages (from jupyter-events>=0.5.0->jupyter-server-fileid<1,>=0.6.0->jupyter-server-ydoc~=0.8.0->jupyterlab>=3.4.7->retentioneering) (2.0.7)\n",
            "Requirement already satisfied: pyyaml>=5.3 in /usr/local/lib/python3.10/dist-packages (from jupyter-events>=0.5.0->jupyter-server-fileid<1,>=0.6.0->jupyter-server-ydoc~=0.8.0->jupyterlab>=3.4.7->retentioneering) (6.0.1)\n",
            "Requirement already satisfied: rfc3339-validator in /usr/local/lib/python3.10/dist-packages (from jupyter-events>=0.5.0->jupyter-server-fileid<1,>=0.6.0->jupyter-server-ydoc~=0.8.0->jupyterlab>=3.4.7->retentioneering) (0.1.4)\n",
            "Requirement already satisfied: rfc3986-validator>=0.1.1 in /usr/local/lib/python3.10/dist-packages (from jupyter-events>=0.5.0->jupyter-server-fileid<1,>=0.6.0->jupyter-server-ydoc~=0.8.0->jupyterlab>=3.4.7->retentioneering) (0.1.1)\n",
            "Requirement already satisfied: fqdn in /usr/local/lib/python3.10/dist-packages (from jsonschema>=4.18.0->jupyterlab-server~=2.19->jupyterlab>=3.4.7->retentioneering) (1.5.1)\n",
            "Requirement already satisfied: isoduration in /usr/local/lib/python3.10/dist-packages (from jsonschema>=4.18.0->jupyterlab-server~=2.19->jupyterlab>=3.4.7->retentioneering) (20.11.0)\n",
            "Requirement already satisfied: jsonpointer>1.13 in /usr/local/lib/python3.10/dist-packages (from jsonschema>=4.18.0->jupyterlab-server~=2.19->jupyterlab>=3.4.7->retentioneering) (2.4)\n",
            "Requirement already satisfied: uri-template in /usr/local/lib/python3.10/dist-packages (from jsonschema>=4.18.0->jupyterlab-server~=2.19->jupyterlab>=3.4.7->retentioneering) (1.3.0)\n",
            "Requirement already satisfied: webcolors>=1.11 in /usr/local/lib/python3.10/dist-packages (from jsonschema>=4.18.0->jupyterlab-server~=2.19->jupyterlab>=3.4.7->retentioneering) (1.13)\n",
            "Requirement already satisfied: arrow>=0.15.0 in /usr/local/lib/python3.10/dist-packages (from isoduration->jsonschema>=4.18.0->jupyterlab-server~=2.19->jupyterlab>=3.4.7->retentioneering) (1.3.0)\n",
            "Requirement already satisfied: types-python-dateutil>=2.8.10 in /usr/local/lib/python3.10/dist-packages (from arrow>=0.15.0->isoduration->jsonschema>=4.18.0->jupyterlab-server~=2.19->jupyterlab>=3.4.7->retentioneering) (2.8.19.14)\n"
          ]
        }
      ],
      "source": [
        "pip install retentioneering"
      ]
    },
    {
      "cell_type": "code",
      "source": [
        "pip install user_agents"
      ],
      "metadata": {
        "colab": {
          "base_uri": "https://localhost:8080/"
        },
        "id": "FpgFZpGKMwTw",
        "outputId": "efa92588-4125-4c36-c803-fe661bbc1244"
      },
      "id": "FpgFZpGKMwTw",
      "execution_count": 3,
      "outputs": [
        {
          "output_type": "stream",
          "name": "stdout",
          "text": [
            "Requirement already satisfied: user_agents in /usr/local/lib/python3.10/dist-packages (2.2.0)\n",
            "Requirement already satisfied: ua-parser>=0.10.0 in /usr/local/lib/python3.10/dist-packages (from user_agents) (0.18.0)\n"
          ]
        }
      ]
    },
    {
      "cell_type": "code",
      "execution_count": 4,
      "id": "d103a482",
      "metadata": {
        "id": "d103a482"
      },
      "outputs": [],
      "source": [
        "import pandas as pd\n",
        "from sklearn.cluster import KMeans\n",
        "from sklearn.model_selection import train_test_split\n",
        "from sklearn.decomposition import PCA\n",
        "import numpy as np\n",
        "import time\n",
        "from user_agents import parse\n"
      ]
    },
    {
      "cell_type": "markdown",
      "id": "497998df",
      "metadata": {
        "id": "497998df"
      },
      "source": [
        "**Загрузка данных из database.csv в перемнную data"
      ]
    },
    {
      "cell_type": "code",
      "execution_count": 5,
      "id": "84eafd6f",
      "metadata": {
        "id": "84eafd6f",
        "outputId": "bca1bd8b-99b6-4dca-a756-0fbf497d9238",
        "colab": {
          "base_uri": "https://localhost:8080/"
        }
      },
      "outputs": [
        {
          "output_type": "stream",
          "name": "stderr",
          "text": [
            "<ipython-input-5-4f0192c1f0c2>:1: DtypeWarning: Columns (1,2) have mixed types. Specify dtype option on import or set low_memory=False.\n",
            "  data = pd.read_csv(\"/content/drive/MyDrive/database.csv\", delimiter=';', on_bad_lines='skip')\n"
          ]
        }
      ],
      "source": [
        "data = pd.read_csv(\"/content/drive/MyDrive/database.csv\", delimiter=';', on_bad_lines='skip')\n",
        "\n"
      ]
    },
    {
      "cell_type": "code",
      "execution_count": 6,
      "id": "07b8421c",
      "metadata": {
        "id": "07b8421c",
        "colab": {
          "base_uri": "https://localhost:8080/"
        },
        "outputId": "4efdc2e5-6320-4ea0-ad08-33f3c9bba4a9"
      },
      "outputs": [
        {
          "output_type": "stream",
          "name": "stdout",
          "text": [
            "<class 'pandas.core.frame.DataFrame'>\n",
            "RangeIndex: 2256373 entries, 0 to 2256372\n",
            "Data columns (total 10 columns):\n",
            " #   Column           Dtype  \n",
            "---  ------           -----  \n",
            " 0   body_bytes_sent  int64  \n",
            " 1   http_referer     object \n",
            " 2   http_user_agent  object \n",
            " 3   remote_addr      object \n",
            " 4   request_method   object \n",
            " 5   request_path     object \n",
            " 6   request_proto    object \n",
            " 7   request_time     float64\n",
            " 8   status           int64  \n",
            " 9   time_local       object \n",
            "dtypes: float64(1), int64(2), object(7)\n",
            "memory usage: 172.1+ MB\n"
          ]
        }
      ],
      "source": [
        "data.info()"
      ]
    },
    {
      "cell_type": "markdown",
      "id": "e43625e8",
      "metadata": {
        "id": "e43625e8"
      },
      "source": [
        "**Загружаем в новую переменную отфильтрованные данные, где 'http_user_agent' и 'request_path' не NaN, т.к. эти данные пригодны для дальнейшего анализа."
      ]
    },
    {
      "cell_type": "code",
      "execution_count": 7,
      "id": "cbce7641",
      "metadata": {
        "id": "cbce7641"
      },
      "outputs": [],
      "source": [
        "df = data[~data[['http_user_agent','request_path']].isna().any(axis=1)].reset_index(drop=True)"
      ]
    },
    {
      "cell_type": "code",
      "execution_count": 8,
      "id": "bf082784",
      "metadata": {
        "id": "bf082784",
        "colab": {
          "base_uri": "https://localhost:8080/"
        },
        "outputId": "8baadcfa-cfbb-409e-f8ce-ac76deb7caab"
      },
      "outputs": [
        {
          "output_type": "stream",
          "name": "stdout",
          "text": [
            "<class 'pandas.core.frame.DataFrame'>\n",
            "RangeIndex: 200764 entries, 0 to 200763\n",
            "Data columns (total 10 columns):\n",
            " #   Column           Non-Null Count   Dtype  \n",
            "---  ------           --------------   -----  \n",
            " 0   body_bytes_sent  200764 non-null  int64  \n",
            " 1   http_referer     137798 non-null  object \n",
            " 2   http_user_agent  200764 non-null  object \n",
            " 3   remote_addr      200764 non-null  object \n",
            " 4   request_method   200764 non-null  object \n",
            " 5   request_path     200764 non-null  object \n",
            " 6   request_proto    200764 non-null  object \n",
            " 7   request_time     200764 non-null  float64\n",
            " 8   status           200764 non-null  int64  \n",
            " 9   time_local       200764 non-null  object \n",
            "dtypes: float64(1), int64(2), object(7)\n",
            "memory usage: 15.3+ MB\n"
          ]
        }
      ],
      "source": [
        "df.info()"
      ]
    },
    {
      "cell_type": "code",
      "execution_count": 9,
      "id": "91f35f9d",
      "metadata": {
        "scrolled": true,
        "id": "91f35f9d",
        "colab": {
          "base_uri": "https://localhost:8080/"
        },
        "outputId": "5f81edc9-10fd-4664-d568-3f37a166816d"
      },
      "outputs": [
        {
          "output_type": "stream",
          "name": "stdout",
          "text": [
            "Статус \"301\" - 100994 (50.305%)\n",
            "Статус \"404\" - 1265 (0.63%)\n",
            "Статус \"499\" - 6223 (3.1%)\n",
            "Статус \"400\" - 362 (0.18%)\n",
            "Статус \"200\" - 51314 (25.559%)\n",
            "Статус \"304\" - 592 (0.295%)\n",
            "Статус \"405\" - 38995 (19.423%)\n",
            "Статус \"503\" - 344 (0.171%)\n",
            "Статус \"504\" - 522 (0.26%)\n",
            "Статус \"408\" - 151 (0.075%)\n",
            "Статус \"206\" - 2 (0.001%)\n"
          ]
        }
      ],
      "source": [
        "#Проверка того, скольким запросам соответствует определенный статус\n",
        "\n",
        "array_code_status = df['status'].unique().tolist()\n",
        "list_col_status = []\n",
        "\n",
        "\n",
        "for i in array_code_status:\n",
        "    count_raws = df[df['status'] == i].shape[0]\n",
        "    list_col_status.append(count_raws)\n",
        "\n",
        "for i in range(len(array_code_status)):\n",
        "    print(f'Статус \"{array_code_status[i]}\" - {list_col_status[i]} ({round(list_col_status[i]/df.shape[0]*100, 3)}%)')"
      ]
    },
    {
      "cell_type": "markdown",
      "id": "760bcc2c",
      "metadata": {
        "id": "760bcc2c"
      },
      "source": [
        "**200 OK — успешный запрос. Если клиентом были запрошены какие-либо данные, то они находятся в заголовке и/или теле сообщения. Появился в HTTP/1.0.\n",
        "\n",
        "**206 Partial Content — сервер удачно выполнил частичный GET-запрос, возвратив только часть сообщения. В заголовке Content-Range сервер указывает байтовые диапазоны содержимого. Особое внимание при работе с подобными ответами следует уделить кэшированию. Появился в HTTP/1.1.\n",
        "\n",
        "**301 Moved Permanently — запрошенный документ был окончательно перенесен на новый URI, указанный в поле Location заголовка. Некоторые клиенты некорректно ведут себя при обработке данного кода. Появился в HTTP/1.0.\n",
        "\n",
        "**304 Not Modified — сервер возвращает такой код, если клиент запросил документ методом GET, использовал заголовок If-Modified-Since или If-None-Match и документ не изменился с указанного момента. При этом сообщение сервера не должно содержать тела. Появился в HTTP/1.0.\n",
        "\n",
        "**400 Bad Request — сервер обнаружил в запросе клиента синтаксическую ошибку. Появился в HTTP/1.0.\n",
        "\n",
        "**404 Not Found[20] — самая распространённая ошибка при пользовании Интернетом, основная причина — ошибка в написании адреса Web-страницы. Сервер понял запрос, но не нашёл соответствующего ресурса по указанному URL. Если серверу известно, что по этому адресу был документ, то ему желательно использовать код 410. Ответ 404 может использоваться вместо 403, если требуется тщательно скрыть от посторонних глаз определённые ресурсы. Появился в HTTP/1.0.\n",
        "\n",
        "**405 Method Not Allowed — указанный клиентом метод нельзя применить к текущему ресурсу. В ответе сервер должен указать доступные методы в заголовке Allow, разделив их запятой. Эту ошибку сервер должен возвращать, если метод ему известен, но он не применим именно к указанному в запросе ресурсу, если же указанный метод не применим на всём сервере, то клиенту нужно вернуть код 501 (Not Implemented). Появился в HTTP/1.1.\n",
        "\n",
        "**408 Request Timeout — время ожидания сервером передачи от клиента истекло. Клиент может повторить аналогичный предыдущему запрос в любое время. Например, такая ситуация может возникнуть при загрузке на сервер объёмного файла методом POST или PUT. В какой-то момент передачи источник данных перестал отвечать, например, из-за повреждения компакт-диска или потери связи с другим компьютером в локальной сети. Пока клиент ничего не передаёт, ожидая от него ответа, соединение с сервером держится. Через некоторое время сервер может закрыть соединение со своей стороны, чтобы дать возможность другим клиентам сделать запрос. Этот ответ не возвращается, когда клиент принудительно остановил передачу по команде пользователя или соединение прервалось по каким-то иным причинам, так как ответ уже послать невозможно. Появился в HTTP/1.1.\n",
        "\n",
        "**499 Client Closed Request — нестандартный код, предложенный и используемый nginx для случаев, когда клиент закрыл соединение, пока nginx обрабатывал запрос.\n",
        "\n",
        "**503 Service Unavailable — сервер временно не имеет возможности обрабатывать запросы по техническим причинам (обслуживание, перегрузка и прочее). В поле Retry-After заголовка сервер может указать время, через которое клиенту рекомендуется повторить запрос. Хотя во время перегрузки очевидным кажется сразу разрывать соединение, эффективней может оказаться установка большого значения поля Retry-After для уменьшения частоты избыточных запросов. Появился в HTTP/1.0.\n",
        "\n",
        "**504 Gateway Timeout — сервер в роли шлюза или прокси-сервера не дождался ответа от вышестоящего сервера для завершения текущего запроса. Появился в HTTP/1.1.\n",
        "\n",
        "Вывод: 50% запросов была редиректами, а 25.5% успешными\n",
        "     "
      ]
    },
    {
      "cell_type": "code",
      "execution_count": 10,
      "id": "bd654e50",
      "metadata": {
        "scrolled": true,
        "id": "bd654e50"
      },
      "outputs": [],
      "source": [
        "#Проверка того, какие запросы являются нагруженными и насколько нагруженными\n",
        "\n",
        "stack_bytes = []\n",
        "\n",
        "for i in array_code_status:\n",
        "    filtered_df = df[df['status'] == i]\n",
        "    byte_array = filtered_df['body_bytes_sent'].unique().tolist()\n",
        "#     print(f'Для случая статуса {i}')\n",
        "    for k in byte_array:\n",
        "\n",
        "        count_raws_bytes = filtered_df[filtered_df['body_bytes_sent']==k].shape[0]\n",
        "        if count_raws_bytes > 100:\n",
        "\n",
        "            #добавляем count_raws_bytes в стек [статус, кол.байт, кол.случаев]\n",
        "            stack_bytes.append([i, k, count_raws_bytes])\n",
        "\n",
        "#         print(f'{k} байтов - в {count_raws_bytes} случаях')\n",
        "#     print('\\n')\n"
      ]
    },
    {
      "cell_type": "code",
      "execution_count": 11,
      "id": "129f4f1e",
      "metadata": {
        "id": "129f4f1e",
        "colab": {
          "base_uri": "https://localhost:8080/"
        },
        "outputId": "74964f21-04fb-4dc0-e840-b5f922541e73"
      },
      "outputs": [
        {
          "output_type": "stream",
          "name": "stdout",
          "text": [
            "162 байтов - в 100939 со статусом 301\n",
            "117 байтов - в 459 со статусом 404\n",
            "251 байтов - в 661 со статусом 404\n",
            "0 байтов - в 6223 со статусом 499\n",
            "650 байтов - в 154 со статусом 400\n",
            "343011 байтов - в 432 со статусом 200\n",
            "40551 байтов - в 644 со статусом 200\n",
            "4514 байтов - в 105 со статусом 200\n",
            "7315 байтов - в 105 со статусом 200\n",
            "2723 байтов - в 101 со статусом 200\n",
            "34621 байтов - в 128 со статусом 200\n",
            "7985 байтов - в 165 со статусом 200\n",
            "14150 байтов - в 131 со статусом 200\n",
            "8721 байтов - в 141 со статусом 200\n",
            "16014 байтов - в 898 со статусом 200\n",
            "568005 байтов - в 112 со статусом 200\n",
            "16006 байтов - в 913 со статусом 200\n",
            "339523 байтов - в 3773 со статусом 200\n",
            "50921 байтов - в 33951 со статусом 200\n",
            "32390 байтов - в 501 со статусом 200\n",
            "0 байтов - в 592 со статусом 304\n",
            "552 байтов - в 18681 со статусом 405\n",
            "150 байтов - в 20312 со статусом 405\n",
            "190 байтов - в 154 со статусом 503\n",
            "592 байтов - в 190 со статусом 503\n",
            "562 байтов - в 303 со статусом 504\n",
            "160 байтов - в 219 со статусом 504\n",
            "0 байтов - в 151 со статусом 408\n"
          ]
        }
      ],
      "source": [
        "#Выведем основные случаи\n",
        "\n",
        "for i in range(len(stack_bytes)):\n",
        "    print(f'{stack_bytes[i][1]} байтов - в {stack_bytes[i][2]} со статусом {stack_bytes[i][0]}')"
      ]
    },
    {
      "cell_type": "markdown",
      "id": "eb6e88ac",
      "metadata": {
        "id": "eb6e88ac"
      },
      "source": [
        "Вывод: можно сделать вывод, что при редиректах отправляется 162 байта, при разрывах соединения 0 байт, а вот при статусе 200 очень большое разнообразие отправленных байтов. (Стоит особо обращать внимание на статус 200)"
      ]
    },
    {
      "cell_type": "code",
      "execution_count": 12,
      "id": "ffce0a37",
      "metadata": {
        "id": "ffce0a37",
        "colab": {
          "base_uri": "https://localhost:8080/"
        },
        "outputId": "1e3d2ec9-fabb-4480-ff7d-52fb2c641884"
      },
      "outputs": [
        {
          "output_type": "stream",
          "name": "stdout",
          "text": [
            "Метод GET: 52465 случаев\n",
            "Метод POST: 19093 случаев\n",
            "Метод HEAD: 0 случаев\n",
            "Метод CONNECT: 0 случаев\n",
            "Метод PUT: 0 случаев\n"
          ]
        }
      ],
      "source": [
        "# Рассмотрение случаев, где отправленныех байтов >1000, а также, какие чаще всего нагружатся методы (request_method)\n",
        "request_methods = df['request_method'].unique().tolist()\n",
        "filtered_df = df[df['body_bytes_sent'] > 162]\n",
        "\n",
        "for i in request_methods:\n",
        "    raws = filtered_df[filtered_df['request_method'] == i].shape[0]\n",
        "    print(f'Метод {i}: {raws} случаев')\n"
      ]
    },
    {
      "cell_type": "markdown",
      "id": "4102a316",
      "metadata": {
        "id": "4102a316"
      },
      "source": [
        "Вывод: Самые нагруженные запросы осуществаляются с помощью метода 'GET'. (ВАЖНО!)"
      ]
    },
    {
      "cell_type": "code",
      "execution_count": 13,
      "id": "076a888b",
      "metadata": {
        "id": "076a888b",
        "colab": {
          "base_uri": "https://localhost:8080/"
        },
        "outputId": "58db0325-7108-49e7-c5fa-4c9a295aa00d"
      },
      "outputs": [
        {
          "output_type": "stream",
          "name": "stdout",
          "text": [
            "Количество уникальных пользователей: 6198\n",
            "Количество уникальных user_agent: 3980\n"
          ]
        }
      ],
      "source": [
        "#Рассмотрение уникальноности ip пользователей и user_agent\n",
        "\n",
        "col_ip_users = df['remote_addr'].unique().shape[0]\n",
        "\n",
        "col_users_agent = df['http_user_agent'].unique().shape[0]\n",
        "\n",
        "print(f'Количество уникальных пользователей: {col_ip_users}')\n",
        "print(f'Количество уникальных user_agent: {col_users_agent}')"
      ]
    },
    {
      "cell_type": "markdown",
      "id": "48ba6b52",
      "metadata": {
        "id": "48ba6b52"
      },
      "source": [
        "Вывод: это означает, что под одиними и теми же user_agent заходят с разных ip. (Допущения: человек с одного\n",
        "        и того же устройства заходит из дома и с работы на данный сайт, подключивших к разным wi-fi сетям)\n",
        "    (Нужен дополнительный временной аналиЗ, а именно, как быстро и user_agent меняет ip адреса.)"
      ]
    },
    {
      "cell_type": "code",
      "execution_count": 13,
      "id": "9f3678e0",
      "metadata": {
        "id": "9f3678e0"
      },
      "outputs": [],
      "source": []
    },
    {
      "cell_type": "code",
      "execution_count": 14,
      "id": "ad0e1553",
      "metadata": {
        "id": "ad0e1553"
      },
      "outputs": [],
      "source": [
        "#За индекс датасета принимаем время\n",
        "\n",
        "df['time_local'] = pd.to_datetime(df['time_local'])\n",
        "df.set_index('time_local', inplace=True)"
      ]
    },
    {
      "cell_type": "code",
      "execution_count": 15,
      "id": "4538d275",
      "metadata": {
        "id": "4538d275"
      },
      "outputs": [],
      "source": [
        "# Деление всех данных на кластеры: bot, mobile, pc, tablet, other_device\n",
        "\n",
        "# stack_bot = []\n",
        "# stack_mobile = []\n",
        "# stack_pc = []\n",
        "# stack_tablet = []\n",
        "# stack_other_device = []\n",
        "stack = []\n",
        "\n",
        "unique_user_agent = df['http_user_agent'].tolist()\n",
        "for i in unique_user_agent:\n",
        "  ua = i.lower()\n",
        "\n",
        "  if 'playstation' in ua or 'xbox' in ua or 'nintendo' in ua:\n",
        "    stack.append('pc')\n",
        "    continue\n",
        "\n",
        "  if 'mobi' in ua:\n",
        "    stack.append('mobile')\n",
        "    continue\n",
        "\n",
        "\n",
        "  if 'tablet' in ua:\n",
        "    stack.append(i)\n",
        "    continue\n",
        "\n",
        "\n",
        "  if 'bot' in ua:\n",
        "    stack.append('bot')\n",
        "    continue\n",
        "\n",
        "  if ('ipad' in ua or\n",
        "    'kindle' in ua or\n",
        "    'blackberry' in ua):\n",
        "\n",
        "    stack.append('bot')\n",
        "    continue\n",
        "\n",
        "  if ('android' in ua or\n",
        "    'iphone' in ua or\n",
        "    'symbian' in ua or\n",
        "    'j2me' in ua or\n",
        "    'webos' in ua or\n",
        "    'netfront' in ua or\n",
        "    'palmos' in ua or\n",
        "    'nokia' in ua or\n",
        "    'nexus' in ua or\n",
        "    'samsung' in ua or\n",
        "    'sonyericsson' in ua):\n",
        "\n",
        "    stack.append('mobile')\n",
        "    continue\n",
        "\n",
        "  if ('windows' in ua or\n",
        "      'linux' in ua or\n",
        "      'dragonfly' in ua or\n",
        "      'mac_powerpc' in ua or\n",
        "      'beos'in ua or\n",
        "      'macintosh' in ua or\n",
        "      'x11' in ua or\n",
        "      'freebsd' in ua or\n",
        "      'syllable' in ua or\n",
        "      'sunos' in ua):\n",
        "\n",
        "    stack.append('pc')\n",
        "    continue\n",
        "\n",
        "  else:\n",
        "    stack.append('bot')\n",
        "\n",
        "\n",
        "# print(len(stack_bot))\n",
        "# print(len(stack_mobile))\n",
        "# print(len(stack_pc))\n",
        "# print(len(stack_other_device))\n",
        "# print(len(stack_tablet))\n",
        "\n",
        "\n"
      ]
    },
    {
      "cell_type": "code",
      "source": [
        "# stack_bot = []\n",
        "# stack_mobile = []\n",
        "# stack_pc = []\n",
        "# stack_unknown = []\n",
        "\n",
        "stack_device = []\n",
        "stack_os = []\n",
        "stack_browser = []\n",
        "is_mozilla = []\n",
        "\n",
        "\n",
        "# stack_other_device = []\n",
        "\n",
        "unique_data_ua = df['http_user_agent'].tolist()\n",
        "for ua_string in unique_data_ua:\n",
        "  ua = parse(ua_string)\n",
        "  stack_device.append(ua.device.family)\n",
        "  stack_os.append(ua.os.family)\n",
        "  stack_browser.append(ua.browser.family)\n",
        "\n",
        "  if 'Mozilla' in ua_string:\n",
        "    is_mozilla.append(1)\n",
        "    continue\n",
        "  else:\n",
        "    is_mozilla.append(0)\n",
        "\n",
        "\n",
        "\n",
        "  # if ua.is_bot:\n",
        "  #   stack_bot.append(ua_string)\n",
        "  #   continue\n",
        "\n",
        "  # if ua.is_mobile or 'Mobi' in ua_string or 'iPad' in ua_string or 'Android' in ua_string:\n",
        "  #   stack_mobile.append(ua_string)\n",
        "  #   continue\n",
        "\n",
        "  # if ua.is_pc or 'Windows' in ua_string or 'Macintosh' in ua_string:\n",
        "  #   stack_pc.append(ua_string)\n",
        "  #   continue\n",
        "\n",
        "  # else:\n",
        "  #   stack_bot.append(ua_string)\n"
      ],
      "metadata": {
        "id": "mQNI3EvHAXcV"
      },
      "id": "mQNI3EvHAXcV",
      "execution_count": 16,
      "outputs": []
    },
    {
      "cell_type": "code",
      "execution_count": 17,
      "id": "b80d52b2",
      "metadata": {
        "id": "b80d52b2"
      },
      "outputs": [],
      "source": [
        "# перенос меток кластеров на датафрейм df\n",
        "\n",
        "df['device'] = stack_device\n",
        "df['os'] = stack_os\n",
        "df['browser']= stack_browser\n",
        "df['is_mozilla'] = is_mozilla\n",
        "df['class'] = stack"
      ]
    },
    {
      "cell_type": "code",
      "execution_count": 18,
      "id": "45398238",
      "metadata": {
        "id": "45398238"
      },
      "outputs": [],
      "source": [
        "# создание 24 датафрейма, в которых данные только за 1 час\n",
        "\n",
        "filtered_df_for_hour = []\n",
        "\n",
        "for i in range(24):\n",
        "    if i == 23:\n",
        "        data = df[(df.index.time > pd.to_datetime('23:00').time()) & (df.index.time < pd.to_datetime('23:59:59').time())]\n",
        "    else:\n",
        "        data = df[(df.index.time > pd.to_datetime(f'{i}:00').time()) & (df.index.time < pd.to_datetime(f'{i+1}:00').time())]\n",
        "    filtered_df_for_hour.append(data)"
      ]
    },
    {
      "cell_type": "code",
      "execution_count": 19,
      "id": "8729dbd7",
      "metadata": {
        "scrolled": false,
        "id": "8729dbd7",
        "colab": {
          "base_uri": "https://localhost:8080/",
          "height": 657
        },
        "outputId": "4be79ff9-ce65-45ed-bd6c-7a9d56afe226"
      },
      "outputs": [
        {
          "output_type": "execute_result",
          "data": {
            "text/plain": [
              "                     body_bytes_sent http_referer  \\\n",
              "time_local                                          \n",
              "2022-10-13 23:14:49              162          NaN   \n",
              "2022-10-13 23:19:31              162          NaN   \n",
              "2022-10-13 23:34:01              162          NaN   \n",
              "2022-10-13 23:39:52              162          NaN   \n",
              "2022-10-13 23:43:12              162          NaN   \n",
              "2022-10-13 23:44:59              162          NaN   \n",
              "2023-08-21 23:00:01            40551          NaN   \n",
              "2023-08-21 23:00:01              162          NaN   \n",
              "2023-08-21 23:00:02              552          NaN   \n",
              "2023-08-21 23:00:02              162          NaN   \n",
              "\n",
              "                                                       http_user_agent  \\\n",
              "time_local                                                               \n",
              "2022-10-13 23:14:49  Mozilla/5.0 (compatible; CensysInspect/1.1; +h...   \n",
              "2022-10-13 23:19:31  Mozilla/5.0 (X11; Ubuntu; Linux x86_64; rv:76....   \n",
              "2022-10-13 23:34:01  Mozilla/5.0 (compatible; InternetMeasurement/1...   \n",
              "2022-10-13 23:39:52  Dalvik/2.1.0 (Linux; U; Android 9.0; ZTE BA520...   \n",
              "2022-10-13 23:43:12                                       'Mozilla/5.0   \n",
              "2022-10-13 23:44:59  Mozilla/5.0 (compatible; bingbot/2.0; +http://...   \n",
              "2023-08-21 23:00:01  Mozilla/5.0 (Macintosh; Intel Mac OS X 10_15_7...   \n",
              "2023-08-21 23:00:01  Mozilla/5.0 (Macintosh; Intel Mac OS X 10_15_7...   \n",
              "2023-08-21 23:00:02  Mozilla/5.0 (X11; Linux x86_64) AppleWebKit/53...   \n",
              "2023-08-21 23:00:02  Mozilla/5.0 (Windows NT 6.1; Win64; x64) Apple...   \n",
              "\n",
              "                         remote_addr request_method             request_path  \\\n",
              "time_local                                                                     \n",
              "2022-10-13 23:14:49      31.220.1.83            GET                        /   \n",
              "2022-10-13 23:19:31    45.61.185.198            GET  /config/getuser?index=0   \n",
              "2022-10-13 23:34:01   87.236.176.188            GET                        /   \n",
              "2022-10-13 23:39:52   113.31.105.130            GET                        /   \n",
              "2022-10-13 23:43:12  124.156.222.254            GET                        /   \n",
              "2022-10-13 23:44:59    207.46.13.170            GET            /vacancieseng   \n",
              "2023-08-21 23:00:01   185.247.69.130            GET                        /   \n",
              "2023-08-21 23:00:01   185.247.69.130           POST                        /   \n",
              "2023-08-21 23:00:02   185.247.69.130           POST                        /   \n",
              "2023-08-21 23:00:02   185.247.69.130           POST                        /   \n",
              "\n",
              "                    request_proto  request_time  status     device        os  \\\n",
              "time_local                                                                     \n",
              "2022-10-13 23:14:49      HTTP/1.1         0.000     301      Other     Other   \n",
              "2022-10-13 23:19:31      HTTP/1.1         0.001     301      Other    Ubuntu   \n",
              "2022-10-13 23:34:01      HTTP/1.1         0.001     301      Other     Other   \n",
              "2022-10-13 23:39:52      HTTP/1.1         0.001     301  ZTE BA520   Android   \n",
              "2022-10-13 23:43:12      HTTP/1.1         0.001     301      Other     Other   \n",
              "2022-10-13 23:44:59      HTTP/1.1         0.000     301     Spider     Other   \n",
              "2023-08-21 23:00:01      HTTP/1.1         0.025     200        Mac  Mac OS X   \n",
              "2023-08-21 23:00:01      HTTP/1.1         0.000     301        Mac  Mac OS X   \n",
              "2023-08-21 23:00:02      HTTP/1.1         0.003     405      Other     Linux   \n",
              "2023-08-21 23:00:02      HTTP/1.1         0.000     301      Other   Windows   \n",
              "\n",
              "                     browser  is_mozilla   class  \n",
              "time_local                                        \n",
              "2022-10-13 23:14:49    Other           1     bot  \n",
              "2022-10-13 23:19:31  Firefox           1      pc  \n",
              "2022-10-13 23:34:01    Other           1     bot  \n",
              "2022-10-13 23:39:52  Android           0  mobile  \n",
              "2022-10-13 23:43:12    Other           1     bot  \n",
              "2022-10-13 23:44:59  bingbot           1     bot  \n",
              "2023-08-21 23:00:01   Safari           1      pc  \n",
              "2023-08-21 23:00:01   Chrome           1      pc  \n",
              "2023-08-21 23:00:02   Chrome           1      pc  \n",
              "2023-08-21 23:00:02    Opera           1      pc  "
            ],
            "text/html": [
              "\n",
              "  <div id=\"df-e03420ed-892f-49fb-b4aa-c5d0da24cbb8\" class=\"colab-df-container\">\n",
              "    <div>\n",
              "<style scoped>\n",
              "    .dataframe tbody tr th:only-of-type {\n",
              "        vertical-align: middle;\n",
              "    }\n",
              "\n",
              "    .dataframe tbody tr th {\n",
              "        vertical-align: top;\n",
              "    }\n",
              "\n",
              "    .dataframe thead th {\n",
              "        text-align: right;\n",
              "    }\n",
              "</style>\n",
              "<table border=\"1\" class=\"dataframe\">\n",
              "  <thead>\n",
              "    <tr style=\"text-align: right;\">\n",
              "      <th></th>\n",
              "      <th>body_bytes_sent</th>\n",
              "      <th>http_referer</th>\n",
              "      <th>http_user_agent</th>\n",
              "      <th>remote_addr</th>\n",
              "      <th>request_method</th>\n",
              "      <th>request_path</th>\n",
              "      <th>request_proto</th>\n",
              "      <th>request_time</th>\n",
              "      <th>status</th>\n",
              "      <th>device</th>\n",
              "      <th>os</th>\n",
              "      <th>browser</th>\n",
              "      <th>is_mozilla</th>\n",
              "      <th>class</th>\n",
              "    </tr>\n",
              "    <tr>\n",
              "      <th>time_local</th>\n",
              "      <th></th>\n",
              "      <th></th>\n",
              "      <th></th>\n",
              "      <th></th>\n",
              "      <th></th>\n",
              "      <th></th>\n",
              "      <th></th>\n",
              "      <th></th>\n",
              "      <th></th>\n",
              "      <th></th>\n",
              "      <th></th>\n",
              "      <th></th>\n",
              "      <th></th>\n",
              "      <th></th>\n",
              "    </tr>\n",
              "  </thead>\n",
              "  <tbody>\n",
              "    <tr>\n",
              "      <th>2022-10-13 23:14:49</th>\n",
              "      <td>162</td>\n",
              "      <td>NaN</td>\n",
              "      <td>Mozilla/5.0 (compatible; CensysInspect/1.1; +h...</td>\n",
              "      <td>31.220.1.83</td>\n",
              "      <td>GET</td>\n",
              "      <td>/</td>\n",
              "      <td>HTTP/1.1</td>\n",
              "      <td>0.000</td>\n",
              "      <td>301</td>\n",
              "      <td>Other</td>\n",
              "      <td>Other</td>\n",
              "      <td>Other</td>\n",
              "      <td>1</td>\n",
              "      <td>bot</td>\n",
              "    </tr>\n",
              "    <tr>\n",
              "      <th>2022-10-13 23:19:31</th>\n",
              "      <td>162</td>\n",
              "      <td>NaN</td>\n",
              "      <td>Mozilla/5.0 (X11; Ubuntu; Linux x86_64; rv:76....</td>\n",
              "      <td>45.61.185.198</td>\n",
              "      <td>GET</td>\n",
              "      <td>/config/getuser?index=0</td>\n",
              "      <td>HTTP/1.1</td>\n",
              "      <td>0.001</td>\n",
              "      <td>301</td>\n",
              "      <td>Other</td>\n",
              "      <td>Ubuntu</td>\n",
              "      <td>Firefox</td>\n",
              "      <td>1</td>\n",
              "      <td>pc</td>\n",
              "    </tr>\n",
              "    <tr>\n",
              "      <th>2022-10-13 23:34:01</th>\n",
              "      <td>162</td>\n",
              "      <td>NaN</td>\n",
              "      <td>Mozilla/5.0 (compatible; InternetMeasurement/1...</td>\n",
              "      <td>87.236.176.188</td>\n",
              "      <td>GET</td>\n",
              "      <td>/</td>\n",
              "      <td>HTTP/1.1</td>\n",
              "      <td>0.001</td>\n",
              "      <td>301</td>\n",
              "      <td>Other</td>\n",
              "      <td>Other</td>\n",
              "      <td>Other</td>\n",
              "      <td>1</td>\n",
              "      <td>bot</td>\n",
              "    </tr>\n",
              "    <tr>\n",
              "      <th>2022-10-13 23:39:52</th>\n",
              "      <td>162</td>\n",
              "      <td>NaN</td>\n",
              "      <td>Dalvik/2.1.0 (Linux; U; Android 9.0; ZTE BA520...</td>\n",
              "      <td>113.31.105.130</td>\n",
              "      <td>GET</td>\n",
              "      <td>/</td>\n",
              "      <td>HTTP/1.1</td>\n",
              "      <td>0.001</td>\n",
              "      <td>301</td>\n",
              "      <td>ZTE BA520</td>\n",
              "      <td>Android</td>\n",
              "      <td>Android</td>\n",
              "      <td>0</td>\n",
              "      <td>mobile</td>\n",
              "    </tr>\n",
              "    <tr>\n",
              "      <th>2022-10-13 23:43:12</th>\n",
              "      <td>162</td>\n",
              "      <td>NaN</td>\n",
              "      <td>'Mozilla/5.0</td>\n",
              "      <td>124.156.222.254</td>\n",
              "      <td>GET</td>\n",
              "      <td>/</td>\n",
              "      <td>HTTP/1.1</td>\n",
              "      <td>0.001</td>\n",
              "      <td>301</td>\n",
              "      <td>Other</td>\n",
              "      <td>Other</td>\n",
              "      <td>Other</td>\n",
              "      <td>1</td>\n",
              "      <td>bot</td>\n",
              "    </tr>\n",
              "    <tr>\n",
              "      <th>2022-10-13 23:44:59</th>\n",
              "      <td>162</td>\n",
              "      <td>NaN</td>\n",
              "      <td>Mozilla/5.0 (compatible; bingbot/2.0; +http://...</td>\n",
              "      <td>207.46.13.170</td>\n",
              "      <td>GET</td>\n",
              "      <td>/vacancieseng</td>\n",
              "      <td>HTTP/1.1</td>\n",
              "      <td>0.000</td>\n",
              "      <td>301</td>\n",
              "      <td>Spider</td>\n",
              "      <td>Other</td>\n",
              "      <td>bingbot</td>\n",
              "      <td>1</td>\n",
              "      <td>bot</td>\n",
              "    </tr>\n",
              "    <tr>\n",
              "      <th>2023-08-21 23:00:01</th>\n",
              "      <td>40551</td>\n",
              "      <td>NaN</td>\n",
              "      <td>Mozilla/5.0 (Macintosh; Intel Mac OS X 10_15_7...</td>\n",
              "      <td>185.247.69.130</td>\n",
              "      <td>GET</td>\n",
              "      <td>/</td>\n",
              "      <td>HTTP/1.1</td>\n",
              "      <td>0.025</td>\n",
              "      <td>200</td>\n",
              "      <td>Mac</td>\n",
              "      <td>Mac OS X</td>\n",
              "      <td>Safari</td>\n",
              "      <td>1</td>\n",
              "      <td>pc</td>\n",
              "    </tr>\n",
              "    <tr>\n",
              "      <th>2023-08-21 23:00:01</th>\n",
              "      <td>162</td>\n",
              "      <td>NaN</td>\n",
              "      <td>Mozilla/5.0 (Macintosh; Intel Mac OS X 10_15_7...</td>\n",
              "      <td>185.247.69.130</td>\n",
              "      <td>POST</td>\n",
              "      <td>/</td>\n",
              "      <td>HTTP/1.1</td>\n",
              "      <td>0.000</td>\n",
              "      <td>301</td>\n",
              "      <td>Mac</td>\n",
              "      <td>Mac OS X</td>\n",
              "      <td>Chrome</td>\n",
              "      <td>1</td>\n",
              "      <td>pc</td>\n",
              "    </tr>\n",
              "    <tr>\n",
              "      <th>2023-08-21 23:00:02</th>\n",
              "      <td>552</td>\n",
              "      <td>NaN</td>\n",
              "      <td>Mozilla/5.0 (X11; Linux x86_64) AppleWebKit/53...</td>\n",
              "      <td>185.247.69.130</td>\n",
              "      <td>POST</td>\n",
              "      <td>/</td>\n",
              "      <td>HTTP/1.1</td>\n",
              "      <td>0.003</td>\n",
              "      <td>405</td>\n",
              "      <td>Other</td>\n",
              "      <td>Linux</td>\n",
              "      <td>Chrome</td>\n",
              "      <td>1</td>\n",
              "      <td>pc</td>\n",
              "    </tr>\n",
              "    <tr>\n",
              "      <th>2023-08-21 23:00:02</th>\n",
              "      <td>162</td>\n",
              "      <td>NaN</td>\n",
              "      <td>Mozilla/5.0 (Windows NT 6.1; Win64; x64) Apple...</td>\n",
              "      <td>185.247.69.130</td>\n",
              "      <td>POST</td>\n",
              "      <td>/</td>\n",
              "      <td>HTTP/1.1</td>\n",
              "      <td>0.000</td>\n",
              "      <td>301</td>\n",
              "      <td>Other</td>\n",
              "      <td>Windows</td>\n",
              "      <td>Opera</td>\n",
              "      <td>1</td>\n",
              "      <td>pc</td>\n",
              "    </tr>\n",
              "  </tbody>\n",
              "</table>\n",
              "</div>\n",
              "    <div class=\"colab-df-buttons\">\n",
              "\n",
              "  <div class=\"colab-df-container\">\n",
              "    <button class=\"colab-df-convert\" onclick=\"convertToInteractive('df-e03420ed-892f-49fb-b4aa-c5d0da24cbb8')\"\n",
              "            title=\"Convert this dataframe to an interactive table.\"\n",
              "            style=\"display:none;\">\n",
              "\n",
              "  <svg xmlns=\"http://www.w3.org/2000/svg\" height=\"24px\" viewBox=\"0 -960 960 960\">\n",
              "    <path d=\"M120-120v-720h720v720H120Zm60-500h600v-160H180v160Zm220 220h160v-160H400v160Zm0 220h160v-160H400v160ZM180-400h160v-160H180v160Zm440 0h160v-160H620v160ZM180-180h160v-160H180v160Zm440 0h160v-160H620v160Z\"/>\n",
              "  </svg>\n",
              "    </button>\n",
              "\n",
              "  <style>\n",
              "    .colab-df-container {\n",
              "      display:flex;\n",
              "      gap: 12px;\n",
              "    }\n",
              "\n",
              "    .colab-df-convert {\n",
              "      background-color: #E8F0FE;\n",
              "      border: none;\n",
              "      border-radius: 50%;\n",
              "      cursor: pointer;\n",
              "      display: none;\n",
              "      fill: #1967D2;\n",
              "      height: 32px;\n",
              "      padding: 0 0 0 0;\n",
              "      width: 32px;\n",
              "    }\n",
              "\n",
              "    .colab-df-convert:hover {\n",
              "      background-color: #E2EBFA;\n",
              "      box-shadow: 0px 1px 2px rgba(60, 64, 67, 0.3), 0px 1px 3px 1px rgba(60, 64, 67, 0.15);\n",
              "      fill: #174EA6;\n",
              "    }\n",
              "\n",
              "    .colab-df-buttons div {\n",
              "      margin-bottom: 4px;\n",
              "    }\n",
              "\n",
              "    [theme=dark] .colab-df-convert {\n",
              "      background-color: #3B4455;\n",
              "      fill: #D2E3FC;\n",
              "    }\n",
              "\n",
              "    [theme=dark] .colab-df-convert:hover {\n",
              "      background-color: #434B5C;\n",
              "      box-shadow: 0px 1px 3px 1px rgba(0, 0, 0, 0.15);\n",
              "      filter: drop-shadow(0px 1px 2px rgba(0, 0, 0, 0.3));\n",
              "      fill: #FFFFFF;\n",
              "    }\n",
              "  </style>\n",
              "\n",
              "    <script>\n",
              "      const buttonEl =\n",
              "        document.querySelector('#df-e03420ed-892f-49fb-b4aa-c5d0da24cbb8 button.colab-df-convert');\n",
              "      buttonEl.style.display =\n",
              "        google.colab.kernel.accessAllowed ? 'block' : 'none';\n",
              "\n",
              "      async function convertToInteractive(key) {\n",
              "        const element = document.querySelector('#df-e03420ed-892f-49fb-b4aa-c5d0da24cbb8');\n",
              "        const dataTable =\n",
              "          await google.colab.kernel.invokeFunction('convertToInteractive',\n",
              "                                                    [key], {});\n",
              "        if (!dataTable) return;\n",
              "\n",
              "        const docLinkHtml = 'Like what you see? Visit the ' +\n",
              "          '<a target=\"_blank\" href=https://colab.research.google.com/notebooks/data_table.ipynb>data table notebook</a>'\n",
              "          + ' to learn more about interactive tables.';\n",
              "        element.innerHTML = '';\n",
              "        dataTable['output_type'] = 'display_data';\n",
              "        await google.colab.output.renderOutput(dataTable, element);\n",
              "        const docLink = document.createElement('div');\n",
              "        docLink.innerHTML = docLinkHtml;\n",
              "        element.appendChild(docLink);\n",
              "      }\n",
              "    </script>\n",
              "  </div>\n",
              "\n",
              "\n",
              "<div id=\"df-970b0d66-7afc-4dde-a319-03cb2acea68b\">\n",
              "  <button class=\"colab-df-quickchart\" onclick=\"quickchart('df-970b0d66-7afc-4dde-a319-03cb2acea68b')\"\n",
              "            title=\"Suggest charts.\"\n",
              "            style=\"display:none;\">\n",
              "\n",
              "<svg xmlns=\"http://www.w3.org/2000/svg\" height=\"24px\"viewBox=\"0 0 24 24\"\n",
              "     width=\"24px\">\n",
              "    <g>\n",
              "        <path d=\"M19 3H5c-1.1 0-2 .9-2 2v14c0 1.1.9 2 2 2h14c1.1 0 2-.9 2-2V5c0-1.1-.9-2-2-2zM9 17H7v-7h2v7zm4 0h-2V7h2v10zm4 0h-2v-4h2v4z\"/>\n",
              "    </g>\n",
              "</svg>\n",
              "  </button>\n",
              "\n",
              "<style>\n",
              "  .colab-df-quickchart {\n",
              "      --bg-color: #E8F0FE;\n",
              "      --fill-color: #1967D2;\n",
              "      --hover-bg-color: #E2EBFA;\n",
              "      --hover-fill-color: #174EA6;\n",
              "      --disabled-fill-color: #AAA;\n",
              "      --disabled-bg-color: #DDD;\n",
              "  }\n",
              "\n",
              "  [theme=dark] .colab-df-quickchart {\n",
              "      --bg-color: #3B4455;\n",
              "      --fill-color: #D2E3FC;\n",
              "      --hover-bg-color: #434B5C;\n",
              "      --hover-fill-color: #FFFFFF;\n",
              "      --disabled-bg-color: #3B4455;\n",
              "      --disabled-fill-color: #666;\n",
              "  }\n",
              "\n",
              "  .colab-df-quickchart {\n",
              "    background-color: var(--bg-color);\n",
              "    border: none;\n",
              "    border-radius: 50%;\n",
              "    cursor: pointer;\n",
              "    display: none;\n",
              "    fill: var(--fill-color);\n",
              "    height: 32px;\n",
              "    padding: 0;\n",
              "    width: 32px;\n",
              "  }\n",
              "\n",
              "  .colab-df-quickchart:hover {\n",
              "    background-color: var(--hover-bg-color);\n",
              "    box-shadow: 0 1px 2px rgba(60, 64, 67, 0.3), 0 1px 3px 1px rgba(60, 64, 67, 0.15);\n",
              "    fill: var(--button-hover-fill-color);\n",
              "  }\n",
              "\n",
              "  .colab-df-quickchart-complete:disabled,\n",
              "  .colab-df-quickchart-complete:disabled:hover {\n",
              "    background-color: var(--disabled-bg-color);\n",
              "    fill: var(--disabled-fill-color);\n",
              "    box-shadow: none;\n",
              "  }\n",
              "\n",
              "  .colab-df-spinner {\n",
              "    border: 2px solid var(--fill-color);\n",
              "    border-color: transparent;\n",
              "    border-bottom-color: var(--fill-color);\n",
              "    animation:\n",
              "      spin 1s steps(1) infinite;\n",
              "  }\n",
              "\n",
              "  @keyframes spin {\n",
              "    0% {\n",
              "      border-color: transparent;\n",
              "      border-bottom-color: var(--fill-color);\n",
              "      border-left-color: var(--fill-color);\n",
              "    }\n",
              "    20% {\n",
              "      border-color: transparent;\n",
              "      border-left-color: var(--fill-color);\n",
              "      border-top-color: var(--fill-color);\n",
              "    }\n",
              "    30% {\n",
              "      border-color: transparent;\n",
              "      border-left-color: var(--fill-color);\n",
              "      border-top-color: var(--fill-color);\n",
              "      border-right-color: var(--fill-color);\n",
              "    }\n",
              "    40% {\n",
              "      border-color: transparent;\n",
              "      border-right-color: var(--fill-color);\n",
              "      border-top-color: var(--fill-color);\n",
              "    }\n",
              "    60% {\n",
              "      border-color: transparent;\n",
              "      border-right-color: var(--fill-color);\n",
              "    }\n",
              "    80% {\n",
              "      border-color: transparent;\n",
              "      border-right-color: var(--fill-color);\n",
              "      border-bottom-color: var(--fill-color);\n",
              "    }\n",
              "    90% {\n",
              "      border-color: transparent;\n",
              "      border-bottom-color: var(--fill-color);\n",
              "    }\n",
              "  }\n",
              "</style>\n",
              "\n",
              "  <script>\n",
              "    async function quickchart(key) {\n",
              "      const quickchartButtonEl =\n",
              "        document.querySelector('#' + key + ' button');\n",
              "      quickchartButtonEl.disabled = true;  // To prevent multiple clicks.\n",
              "      quickchartButtonEl.classList.add('colab-df-spinner');\n",
              "      try {\n",
              "        const charts = await google.colab.kernel.invokeFunction(\n",
              "            'suggestCharts', [key], {});\n",
              "      } catch (error) {\n",
              "        console.error('Error during call to suggestCharts:', error);\n",
              "      }\n",
              "      quickchartButtonEl.classList.remove('colab-df-spinner');\n",
              "      quickchartButtonEl.classList.add('colab-df-quickchart-complete');\n",
              "    }\n",
              "    (() => {\n",
              "      let quickchartButtonEl =\n",
              "        document.querySelector('#df-970b0d66-7afc-4dde-a319-03cb2acea68b button');\n",
              "      quickchartButtonEl.style.display =\n",
              "        google.colab.kernel.accessAllowed ? 'block' : 'none';\n",
              "    })();\n",
              "  </script>\n",
              "</div>\n",
              "    </div>\n",
              "  </div>\n"
            ]
          },
          "metadata": {},
          "execution_count": 19
        }
      ],
      "source": [
        "filtered_df_for_hour[23].head(10)"
      ]
    },
    {
      "cell_type": "code",
      "execution_count": 20,
      "id": "e6964ada",
      "metadata": {
        "id": "e6964ada"
      },
      "outputs": [],
      "source": [
        "# Получение стеков данных и количество пользователей в том или ином кластере за 1 час\n",
        "\n",
        "stack_pc = []\n",
        "stack_bot = []\n",
        "stack_mobile = []\n",
        "\n",
        "\n",
        "stack_pc_col = []\n",
        "stack_bot_col = []\n",
        "stack_mobile_col = []\n",
        "\n",
        "\n",
        "for i in range(24):\n",
        "    pc_rows = filtered_df_for_hour[i][filtered_df_for_hour[i]['class']=='pc']\n",
        "    stack_pc_col.append(pc_rows.shape[0])\n",
        "    stack_pc.append(pc_rows)\n",
        "\n",
        "    bot_rows = filtered_df_for_hour[i][filtered_df_for_hour[i]['class']=='bot']\n",
        "    stack_bot_col.append(bot_rows.shape[0])\n",
        "    stack_bot.append(bot_rows)\n",
        "\n",
        "    mobile_rows = filtered_df_for_hour[i][filtered_df_for_hour[i]['class']=='mobile']\n",
        "    stack_mobile_col.append(mobile_rows.shape[0])\n",
        "    stack_mobile.append(mobile_rows)\n",
        "\n"
      ]
    },
    {
      "cell_type": "code",
      "execution_count": 21,
      "id": "a71b4302",
      "metadata": {
        "id": "a71b4302"
      },
      "outputs": [],
      "source": [
        "import matplotlib.pyplot as plt"
      ]
    },
    {
      "cell_type": "code",
      "execution_count": 22,
      "id": "8f97b922",
      "metadata": {
        "scrolled": false,
        "id": "8f97b922",
        "colab": {
          "base_uri": "https://localhost:8080/",
          "height": 1000
        },
        "outputId": "b89d7cd1-a59b-4ddb-9eba-279d1e180e14"
      },
      "outputs": [
        {
          "output_type": "display_data",
          "data": {
            "text/plain": [
              "<Figure size 1200x700 with 1 Axes>"
            ],
            "image/png": "[encoded data removed]"
          },
          "metadata": {}
        },
        {
          "output_type": "display_data",
          "data": {
            "text/plain": [
              "<Figure size 1200x700 with 1 Axes>"
            ],
            "image/png": "[encoded data removed]"
          },
          "metadata": {}
        },
        {
          "output_type": "display_data",
          "data": {
            "text/plain": [
              "<Figure size 1200x700 with 1 Axes>"
            ],
            "image/png": "[encoded data removed]"
          },
          "metadata": {}
        }
      ],
      "source": [
        "# построение графиков в зависимости кол.пользователей от времени суток\n",
        "\n",
        "hours = list(range(24))\n",
        "\n",
        "stack_col = [stack_pc_col, stack_bot_col, stack_mobile_col]\n",
        "stack_title_plot= ['Количество посетителей, зашедших с компьютера часам',\n",
        "                    'Количество ботов посещающих сайт по часам',\n",
        "                    'Количество посетителей, зашедших с мобильных устройств по часам'\n",
        "                    ]\n",
        "\n",
        "for i in range(len(stack_col)):\n",
        "  #График для ботов, посетивших сайт\n",
        "  plt.figure(figsize=(12, 7))\n",
        "  plt.plot(hours, stack_col[i], marker='o')\n",
        "\n",
        "  plt.ylabel('Количество посетителей')\n",
        "  plt.xlabel('Время суток (часы)')\n",
        "  plt.title(stack_title_plot[i])\n",
        "  plt.grid(which='both', linewidth=0.5)\n",
        "  plt.show()\n",
        "\n"
      ]
    },
    {
      "cell_type": "markdown",
      "id": "0b0ccf8e",
      "metadata": {
        "id": "0b0ccf8e"
      },
      "source": [
        "Отсюда видно, что пик посетителей достигается (анализ за все время):\n",
        "- в 7 часов и в 22 часа для планшетных устройств\n",
        "- в 7-8 часов для мобильных устройств\n",
        "- в 8 часов для пользователей ПК\n",
        "- в 7 часов и также в 22 часа\n",
        "- в 7 для других устройств"
      ]
    },
    {
      "cell_type": "code",
      "execution_count": 23,
      "id": "2a77cebc",
      "metadata": {
        "id": "2a77cebc",
        "colab": {
          "base_uri": "https://localhost:8080/"
        },
        "outputId": "a48f1ec2-64fd-4a26-88b1-12b521df1b14"
      },
      "outputs": [
        {
          "output_type": "stream",
          "name": "stdout",
          "text": [
            "Requirement already satisfied: geoip2 in /usr/local/lib/python3.10/dist-packages (4.7.0)\n",
            "Requirement already satisfied: aiohttp<4.0.0,>=3.6.2 in /usr/local/lib/python3.10/dist-packages (from geoip2) (3.8.6)\n",
            "Requirement already satisfied: maxminddb<3.0.0,>=2.3.0 in /usr/local/lib/python3.10/dist-packages (from geoip2) (2.4.0)\n",
            "Requirement already satisfied: requests<3.0.0,>=2.24.0 in /usr/local/lib/python3.10/dist-packages (from geoip2) (2.31.0)\n",
            "Requirement already satisfied: attrs>=17.3.0 in /usr/local/lib/python3.10/dist-packages (from aiohttp<4.0.0,>=3.6.2->geoip2) (23.1.0)\n",
            "Requirement already satisfied: charset-normalizer<4.0,>=2.0 in /usr/local/lib/python3.10/dist-packages (from aiohttp<4.0.0,>=3.6.2->geoip2) (3.3.1)\n",
            "Requirement already satisfied: multidict<7.0,>=4.5 in /usr/local/lib/python3.10/dist-packages (from aiohttp<4.0.0,>=3.6.2->geoip2) (6.0.4)\n",
            "Requirement already satisfied: async-timeout<5.0,>=4.0.0a3 in /usr/local/lib/python3.10/dist-packages (from aiohttp<4.0.0,>=3.6.2->geoip2) (4.0.3)\n",
            "Requirement already satisfied: yarl<2.0,>=1.0 in /usr/local/lib/python3.10/dist-packages (from aiohttp<4.0.0,>=3.6.2->geoip2) (1.9.2)\n",
            "Requirement already satisfied: frozenlist>=1.1.1 in /usr/local/lib/python3.10/dist-packages (from aiohttp<4.0.0,>=3.6.2->geoip2) (1.4.0)\n",
            "Requirement already satisfied: aiosignal>=1.1.2 in /usr/local/lib/python3.10/dist-packages (from aiohttp<4.0.0,>=3.6.2->geoip2) (1.3.1)\n",
            "Requirement already satisfied: idna<4,>=2.5 in /usr/local/lib/python3.10/dist-packages (from requests<3.0.0,>=2.24.0->geoip2) (3.4)\n",
            "Requirement already satisfied: urllib3<3,>=1.21.1 in /usr/local/lib/python3.10/dist-packages (from requests<3.0.0,>=2.24.0->geoip2) (2.0.7)\n",
            "Requirement already satisfied: certifi>=2017.4.17 in /usr/local/lib/python3.10/dist-packages (from requests<3.0.0,>=2.24.0->geoip2) (2023.7.22)\n"
          ]
        }
      ],
      "source": [
        "# pip install geocoder\n",
        "!pip install geoip2\n"
      ]
    },
    {
      "cell_type": "code",
      "source": [
        "# Определение местоположения по ip\n",
        "\n",
        "import geoip2.database\n",
        "\n",
        "stack_country = []\n",
        "stack_continent = []\n",
        "\n",
        "reader = geoip2.database.Reader('/content/drive/MyDrive/GeoLite2-Country.mmdb')\n",
        "unique_ip = df['remote_addr'].tolist()\n",
        "\n",
        "for i in unique_ip:\n",
        "  response = reader.country(i)\n",
        "  stack_country.append(response.country.name)\n",
        "  stack_continent.append(response.continent.name)\n",
        "\n",
        "reader.close()"
      ],
      "metadata": {
        "id": "TUl7nYAPwjI9"
      },
      "id": "TUl7nYAPwjI9",
      "execution_count": 24,
      "outputs": []
    },
    {
      "cell_type": "code",
      "source": [
        "df['country'] = stack_country\n",
        "df['continent'] = stack_continent\n",
        "df.drop('remote_addr', axis=1)\n",
        "df.drop('http_user_agent', axis=1)"
      ],
      "metadata": {
        "colab": {
          "base_uri": "https://localhost:8080/",
          "height": 649
        },
        "id": "AfIAVciyz8so",
        "outputId": "c86b8de8-fd16-4fbe-fdc1-cf2a676fbc81"
      },
      "id": "AfIAVciyz8so",
      "execution_count": 25,
      "outputs": [
        {
          "output_type": "execute_result",
          "data": {
            "text/plain": [
              "                     body_bytes_sent http_referer      remote_addr  \\\n",
              "time_local                                                           \n",
              "2022-10-13 00:10:11              162          NaN    181.214.41.90   \n",
              "2022-10-13 00:15:14              162          NaN  192.241.212.152   \n",
              "2022-10-13 00:17:26              162          NaN     157.55.39.28   \n",
              "2022-10-13 00:35:55              162          NaN    167.94.146.57   \n",
              "2022-10-13 00:41:21              162          NaN    64.62.197.231   \n",
              "...                              ...          ...              ...   \n",
              "2023-01-18 04:31:59                0          NaN    34.77.182.103   \n",
              "2023-01-18 04:33:03              162          NaN  117.199.166.163   \n",
              "2023-01-18 04:33:03              162          NaN  117.199.166.163   \n",
              "2023-01-18 04:35:33              162          NaN     111.41.55.97   \n",
              "2023-01-18 03:20:46              162          NaN   192.227.169.74   \n",
              "\n",
              "                    request_method             request_path request_proto  \\\n",
              "time_local                                                                  \n",
              "2022-10-13 00:10:11            GET  /api.php?key=1&apikey=1      HTTP/1.1   \n",
              "2022-10-13 00:15:14            GET         /actuator/health      HTTP/1.1   \n",
              "2022-10-13 00:17:26            GET                 /hosteng      HTTP/1.1   \n",
              "2022-10-13 00:35:55            GET                        /      HTTP/1.1   \n",
              "2022-10-13 00:41:21            GET                        /      HTTP/1.1   \n",
              "...                            ...                      ...           ...   \n",
              "2023-01-18 04:31:59           HEAD                 /maineng      HTTP/1.1   \n",
              "2023-01-18 04:33:03            GET                        /      HTTP/1.1   \n",
              "2023-01-18 04:33:03            GET                        /      HTTP/1.1   \n",
              "2023-01-18 04:35:33            GET                        /      HTTP/1.1   \n",
              "2023-01-18 03:20:46            GET                        /      HTTP/1.1   \n",
              "\n",
              "                     request_time  status  device        os  \\\n",
              "time_local                                                    \n",
              "2022-10-13 00:10:11         0.001     301  Spider     Other   \n",
              "2022-10-13 00:15:14         0.001     301   Other     Other   \n",
              "2022-10-13 00:17:26         0.000     301  Spider     Other   \n",
              "2022-10-13 00:35:55         0.000     301   Other     Other   \n",
              "2022-10-13 00:41:21         0.001     301   Other     Linux   \n",
              "...                           ...     ...     ...       ...   \n",
              "2023-01-18 04:31:59         0.000     301   Other     Other   \n",
              "2023-01-18 04:33:03         0.000     301   Other   Windows   \n",
              "2023-01-18 04:33:03         0.000     301     Mac  Mac OS X   \n",
              "2023-01-18 04:35:33         0.000     301   Other     Other   \n",
              "2023-01-18 03:20:46         0.000     301   Other   Windows   \n",
              "\n",
              "                               browser  is_mozilla class        country  \\\n",
              "time_local                                                                \n",
              "2022-10-13 00:10:11          Googlebot           0   bot         France   \n",
              "2022-10-13 00:15:14              Other           1   bot  United States   \n",
              "2022-10-13 00:17:26            bingbot           1   bot  United States   \n",
              "2022-10-13 00:35:55              Other           1   bot  United States   \n",
              "2022-10-13 00:41:21            Firefox           1    pc  United States   \n",
              "...                                ...         ...   ...            ...   \n",
              "2023-01-18 04:31:59  Apache-HttpClient           0   bot        Belgium   \n",
              "2023-01-18 04:33:03             Chrome           1    pc          India   \n",
              "2023-01-18 04:33:03             Safari           1    pc          India   \n",
              "2023-01-18 04:35:33      libcurl-agent           0   bot          China   \n",
              "2023-01-18 03:20:46             Chrome           1    pc  United States   \n",
              "\n",
              "                         continent  \n",
              "time_local                          \n",
              "2022-10-13 00:10:11         Europe  \n",
              "2022-10-13 00:15:14  North America  \n",
              "2022-10-13 00:17:26  North America  \n",
              "2022-10-13 00:35:55  North America  \n",
              "2022-10-13 00:41:21  North America  \n",
              "...                            ...  \n",
              "2023-01-18 04:31:59         Europe  \n",
              "2023-01-18 04:33:03           Asia  \n",
              "2023-01-18 04:33:03           Asia  \n",
              "2023-01-18 04:35:33           Asia  \n",
              "2023-01-18 03:20:46  North America  \n",
              "\n",
              "[200764 rows x 15 columns]"
            ],
            "text/html": [
              "\n",
              "  <div id=\"df-f713f7bd-9e18-4d41-84bd-2eb6993c58e1\" class=\"colab-df-container\">\n",
              "    <div>\n",
              "<style scoped>\n",
              "    .dataframe tbody tr th:only-of-type {\n",
              "        vertical-align: middle;\n",
              "    }\n",
              "\n",
              "    .dataframe tbody tr th {\n",
              "        vertical-align: top;\n",
              "    }\n",
              "\n",
              "    .dataframe thead th {\n",
              "        text-align: right;\n",
              "    }\n",
              "</style>\n",
              "<table border=\"1\" class=\"dataframe\">\n",
              "  <thead>\n",
              "    <tr style=\"text-align: right;\">\n",
              "      <th></th>\n",
              "      <th>body_bytes_sent</th>\n",
              "      <th>http_referer</th>\n",
              "      <th>remote_addr</th>\n",
              "      <th>request_method</th>\n",
              "      <th>request_path</th>\n",
              "      <th>request_proto</th>\n",
              "      <th>request_time</th>\n",
              "      <th>status</th>\n",
              "      <th>device</th>\n",
              "      <th>os</th>\n",
              "      <th>browser</th>\n",
              "      <th>is_mozilla</th>\n",
              "      <th>class</th>\n",
              "      <th>country</th>\n",
              "      <th>continent</th>\n",
              "    </tr>\n",
              "    <tr>\n",
              "      <th>time_local</th>\n",
              "      <th></th>\n",
              "      <th></th>\n",
              "      <th></th>\n",
              "      <th></th>\n",
              "      <th></th>\n",
              "      <th></th>\n",
              "      <th></th>\n",
              "      <th></th>\n",
              "      <th></th>\n",
              "      <th></th>\n",
              "      <th></th>\n",
              "      <th></th>\n",
              "      <th></th>\n",
              "      <th></th>\n",
              "      <th></th>\n",
              "    </tr>\n",
              "  </thead>\n",
              "  <tbody>\n",
              "    <tr>\n",
              "      <th>2022-10-13 00:10:11</th>\n",
              "      <td>162</td>\n",
              "      <td>NaN</td>\n",
              "      <td>181.214.41.90</td>\n",
              "      <td>GET</td>\n",
              "      <td>/api.php?key=1&amp;apikey=1</td>\n",
              "      <td>HTTP/1.1</td>\n",
              "      <td>0.001</td>\n",
              "      <td>301</td>\n",
              "      <td>Spider</td>\n",
              "      <td>Other</td>\n",
              "      <td>Googlebot</td>\n",
              "      <td>0</td>\n",
              "      <td>bot</td>\n",
              "      <td>France</td>\n",
              "      <td>Europe</td>\n",
              "    </tr>\n",
              "    <tr>\n",
              "      <th>2022-10-13 00:15:14</th>\n",
              "      <td>162</td>\n",
              "      <td>NaN</td>\n",
              "      <td>192.241.212.152</td>\n",
              "      <td>GET</td>\n",
              "      <td>/actuator/health</td>\n",
              "      <td>HTTP/1.1</td>\n",
              "      <td>0.001</td>\n",
              "      <td>301</td>\n",
              "      <td>Other</td>\n",
              "      <td>Other</td>\n",
              "      <td>Other</td>\n",
              "      <td>1</td>\n",
              "      <td>bot</td>\n",
              "      <td>United States</td>\n",
              "      <td>North America</td>\n",
              "    </tr>\n",
              "    <tr>\n",
              "      <th>2022-10-13 00:17:26</th>\n",
              "      <td>162</td>\n",
              "      <td>NaN</td>\n",
              "      <td>157.55.39.28</td>\n",
              "      <td>GET</td>\n",
              "      <td>/hosteng</td>\n",
              "      <td>HTTP/1.1</td>\n",
              "      <td>0.000</td>\n",
              "      <td>301</td>\n",
              "      <td>Spider</td>\n",
              "      <td>Other</td>\n",
              "      <td>bingbot</td>\n",
              "      <td>1</td>\n",
              "      <td>bot</td>\n",
              "      <td>United States</td>\n",
              "      <td>North America</td>\n",
              "    </tr>\n",
              "    <tr>\n",
              "      <th>2022-10-13 00:35:55</th>\n",
              "      <td>162</td>\n",
              "      <td>NaN</td>\n",
              "      <td>167.94.146.57</td>\n",
              "      <td>GET</td>\n",
              "      <td>/</td>\n",
              "      <td>HTTP/1.1</td>\n",
              "      <td>0.000</td>\n",
              "      <td>301</td>\n",
              "      <td>Other</td>\n",
              "      <td>Other</td>\n",
              "      <td>Other</td>\n",
              "      <td>1</td>\n",
              "      <td>bot</td>\n",
              "      <td>United States</td>\n",
              "      <td>North America</td>\n",
              "    </tr>\n",
              "    <tr>\n",
              "      <th>2022-10-13 00:41:21</th>\n",
              "      <td>162</td>\n",
              "      <td>NaN</td>\n",
              "      <td>64.62.197.231</td>\n",
              "      <td>GET</td>\n",
              "      <td>/</td>\n",
              "      <td>HTTP/1.1</td>\n",
              "      <td>0.001</td>\n",
              "      <td>301</td>\n",
              "      <td>Other</td>\n",
              "      <td>Linux</td>\n",
              "      <td>Firefox</td>\n",
              "      <td>1</td>\n",
              "      <td>pc</td>\n",
              "      <td>United States</td>\n",
              "      <td>North America</td>\n",
              "    </tr>\n",
              "    <tr>\n",
              "      <th>...</th>\n",
              "      <td>...</td>\n",
              "      <td>...</td>\n",
              "      <td>...</td>\n",
              "      <td>...</td>\n",
              "      <td>...</td>\n",
              "      <td>...</td>\n",
              "      <td>...</td>\n",
              "      <td>...</td>\n",
              "      <td>...</td>\n",
              "      <td>...</td>\n",
              "      <td>...</td>\n",
              "      <td>...</td>\n",
              "      <td>...</td>\n",
              "      <td>...</td>\n",
              "      <td>...</td>\n",
              "    </tr>\n",
              "    <tr>\n",
              "      <th>2023-01-18 04:31:59</th>\n",
              "      <td>0</td>\n",
              "      <td>NaN</td>\n",
              "      <td>34.77.182.103</td>\n",
              "      <td>HEAD</td>\n",
              "      <td>/maineng</td>\n",
              "      <td>HTTP/1.1</td>\n",
              "      <td>0.000</td>\n",
              "      <td>301</td>\n",
              "      <td>Other</td>\n",
              "      <td>Other</td>\n",
              "      <td>Apache-HttpClient</td>\n",
              "      <td>0</td>\n",
              "      <td>bot</td>\n",
              "      <td>Belgium</td>\n",
              "      <td>Europe</td>\n",
              "    </tr>\n",
              "    <tr>\n",
              "      <th>2023-01-18 04:33:03</th>\n",
              "      <td>162</td>\n",
              "      <td>NaN</td>\n",
              "      <td>117.199.166.163</td>\n",
              "      <td>GET</td>\n",
              "      <td>/</td>\n",
              "      <td>HTTP/1.1</td>\n",
              "      <td>0.000</td>\n",
              "      <td>301</td>\n",
              "      <td>Other</td>\n",
              "      <td>Windows</td>\n",
              "      <td>Chrome</td>\n",
              "      <td>1</td>\n",
              "      <td>pc</td>\n",
              "      <td>India</td>\n",
              "      <td>Asia</td>\n",
              "    </tr>\n",
              "    <tr>\n",
              "      <th>2023-01-18 04:33:03</th>\n",
              "      <td>162</td>\n",
              "      <td>NaN</td>\n",
              "      <td>117.199.166.163</td>\n",
              "      <td>GET</td>\n",
              "      <td>/</td>\n",
              "      <td>HTTP/1.1</td>\n",
              "      <td>0.000</td>\n",
              "      <td>301</td>\n",
              "      <td>Mac</td>\n",
              "      <td>Mac OS X</td>\n",
              "      <td>Safari</td>\n",
              "      <td>1</td>\n",
              "      <td>pc</td>\n",
              "      <td>India</td>\n",
              "      <td>Asia</td>\n",
              "    </tr>\n",
              "    <tr>\n",
              "      <th>2023-01-18 04:35:33</th>\n",
              "      <td>162</td>\n",
              "      <td>NaN</td>\n",
              "      <td>111.41.55.97</td>\n",
              "      <td>GET</td>\n",
              "      <td>/</td>\n",
              "      <td>HTTP/1.1</td>\n",
              "      <td>0.000</td>\n",
              "      <td>301</td>\n",
              "      <td>Other</td>\n",
              "      <td>Other</td>\n",
              "      <td>libcurl-agent</td>\n",
              "      <td>0</td>\n",
              "      <td>bot</td>\n",
              "      <td>China</td>\n",
              "      <td>Asia</td>\n",
              "    </tr>\n",
              "    <tr>\n",
              "      <th>2023-01-18 03:20:46</th>\n",
              "      <td>162</td>\n",
              "      <td>NaN</td>\n",
              "      <td>192.227.169.74</td>\n",
              "      <td>GET</td>\n",
              "      <td>/</td>\n",
              "      <td>HTTP/1.1</td>\n",
              "      <td>0.000</td>\n",
              "      <td>301</td>\n",
              "      <td>Other</td>\n",
              "      <td>Windows</td>\n",
              "      <td>Chrome</td>\n",
              "      <td>1</td>\n",
              "      <td>pc</td>\n",
              "      <td>United States</td>\n",
              "      <td>North America</td>\n",
              "    </tr>\n",
              "  </tbody>\n",
              "</table>\n",
              "<p>200764 rows × 15 columns</p>\n",
              "</div>\n",
              "    <div class=\"colab-df-buttons\">\n",
              "\n",
              "  <div class=\"colab-df-container\">\n",
              "    <button class=\"colab-df-convert\" onclick=\"convertToInteractive('df-f713f7bd-9e18-4d41-84bd-2eb6993c58e1')\"\n",
              "            title=\"Convert this dataframe to an interactive table.\"\n",
              "            style=\"display:none;\">\n",
              "\n",
              "  <svg xmlns=\"http://www.w3.org/2000/svg\" height=\"24px\" viewBox=\"0 -960 960 960\">\n",
              "    <path d=\"M120-120v-720h720v720H120Zm60-500h600v-160H180v160Zm220 220h160v-160H400v160Zm0 220h160v-160H400v160ZM180-400h160v-160H180v160Zm440 0h160v-160H620v160ZM180-180h160v-160H180v160Zm440 0h160v-160H620v160Z\"/>\n",
              "  </svg>\n",
              "    </button>\n",
              "\n",
              "  <style>\n",
              "    .colab-df-container {\n",
              "      display:flex;\n",
              "      gap: 12px;\n",
              "    }\n",
              "\n",
              "    .colab-df-convert {\n",
              "      background-color: #E8F0FE;\n",
              "      border: none;\n",
              "      border-radius: 50%;\n",
              "      cursor: pointer;\n",
              "      display: none;\n",
              "      fill: #1967D2;\n",
              "      height: 32px;\n",
              "      padding: 0 0 0 0;\n",
              "      width: 32px;\n",
              "    }\n",
              "\n",
              "    .colab-df-convert:hover {\n",
              "      background-color: #E2EBFA;\n",
              "      box-shadow: 0px 1px 2px rgba(60, 64, 67, 0.3), 0px 1px 3px 1px rgba(60, 64, 67, 0.15);\n",
              "      fill: #174EA6;\n",
              "    }\n",
              "\n",
              "    .colab-df-buttons div {\n",
              "      margin-bottom: 4px;\n",
              "    }\n",
              "\n",
              "    [theme=dark] .colab-df-convert {\n",
              "      background-color: #3B4455;\n",
              "      fill: #D2E3FC;\n",
              "    }\n",
              "\n",
              "    [theme=dark] .colab-df-convert:hover {\n",
              "      background-color: #434B5C;\n",
              "      box-shadow: 0px 1px 3px 1px rgba(0, 0, 0, 0.15);\n",
              "      filter: drop-shadow(0px 1px 2px rgba(0, 0, 0, 0.3));\n",
              "      fill: #FFFFFF;\n",
              "    }\n",
              "  </style>\n",
              "\n",
              "    <script>\n",
              "      const buttonEl =\n",
              "        document.querySelector('#df-f713f7bd-9e18-4d41-84bd-2eb6993c58e1 button.colab-df-convert');\n",
              "      buttonEl.style.display =\n",
              "        google.colab.kernel.accessAllowed ? 'block' : 'none';\n",
              "\n",
              "      async function convertToInteractive(key) {\n",
              "        const element = document.querySelector('#df-f713f7bd-9e18-4d41-84bd-2eb6993c58e1');\n",
              "        const dataTable =\n",
              "          await google.colab.kernel.invokeFunction('convertToInteractive',\n",
              "                                                    [key], {});\n",
              "        if (!dataTable) return;\n",
              "\n",
              "        const docLinkHtml = 'Like what you see? Visit the ' +\n",
              "          '<a target=\"_blank\" href=https://colab.research.google.com/notebooks/data_table.ipynb>data table notebook</a>'\n",
              "          + ' to learn more about interactive tables.';\n",
              "        element.innerHTML = '';\n",
              "        dataTable['output_type'] = 'display_data';\n",
              "        await google.colab.output.renderOutput(dataTable, element);\n",
              "        const docLink = document.createElement('div');\n",
              "        docLink.innerHTML = docLinkHtml;\n",
              "        element.appendChild(docLink);\n",
              "      }\n",
              "    </script>\n",
              "  </div>\n",
              "\n",
              "\n",
              "<div id=\"df-944696cf-6cd4-43ba-be64-fba3afd8ffb8\">\n",
              "  <button class=\"colab-df-quickchart\" onclick=\"quickchart('df-944696cf-6cd4-43ba-be64-fba3afd8ffb8')\"\n",
              "            title=\"Suggest charts.\"\n",
              "            style=\"display:none;\">\n",
              "\n",
              "<svg xmlns=\"http://www.w3.org/2000/svg\" height=\"24px\"viewBox=\"0 0 24 24\"\n",
              "     width=\"24px\">\n",
              "    <g>\n",
              "        <path d=\"M19 3H5c-1.1 0-2 .9-2 2v14c0 1.1.9 2 2 2h14c1.1 0 2-.9 2-2V5c0-1.1-.9-2-2-2zM9 17H7v-7h2v7zm4 0h-2V7h2v10zm4 0h-2v-4h2v4z\"/>\n",
              "    </g>\n",
              "</svg>\n",
              "  </button>\n",
              "\n",
              "<style>\n",
              "  .colab-df-quickchart {\n",
              "      --bg-color: #E8F0FE;\n",
              "      --fill-color: #1967D2;\n",
              "      --hover-bg-color: #E2EBFA;\n",
              "      --hover-fill-color: #174EA6;\n",
              "      --disabled-fill-color: #AAA;\n",
              "      --disabled-bg-color: #DDD;\n",
              "  }\n",
              "\n",
              "  [theme=dark] .colab-df-quickchart {\n",
              "      --bg-color: #3B4455;\n",
              "      --fill-color: #D2E3FC;\n",
              "      --hover-bg-color: #434B5C;\n",
              "      --hover-fill-color: #FFFFFF;\n",
              "      --disabled-bg-color: #3B4455;\n",
              "      --disabled-fill-color: #666;\n",
              "  }\n",
              "\n",
              "  .colab-df-quickchart {\n",
              "    background-color: var(--bg-color);\n",
              "    border: none;\n",
              "    border-radius: 50%;\n",
              "    cursor: pointer;\n",
              "    display: none;\n",
              "    fill: var(--fill-color);\n",
              "    height: 32px;\n",
              "    padding: 0;\n",
              "    width: 32px;\n",
              "  }\n",
              "\n",
              "  .colab-df-quickchart:hover {\n",
              "    background-color: var(--hover-bg-color);\n",
              "    box-shadow: 0 1px 2px rgba(60, 64, 67, 0.3), 0 1px 3px 1px rgba(60, 64, 67, 0.15);\n",
              "    fill: var(--button-hover-fill-color);\n",
              "  }\n",
              "\n",
              "  .colab-df-quickchart-complete:disabled,\n",
              "  .colab-df-quickchart-complete:disabled:hover {\n",
              "    background-color: var(--disabled-bg-color);\n",
              "    fill: var(--disabled-fill-color);\n",
              "    box-shadow: none;\n",
              "  }\n",
              "\n",
              "  .colab-df-spinner {\n",
              "    border: 2px solid var(--fill-color);\n",
              "    border-color: transparent;\n",
              "    border-bottom-color: var(--fill-color);\n",
              "    animation:\n",
              "      spin 1s steps(1) infinite;\n",
              "  }\n",
              "\n",
              "  @keyframes spin {\n",
              "    0% {\n",
              "      border-color: transparent;\n",
              "      border-bottom-color: var(--fill-color);\n",
              "      border-left-color: var(--fill-color);\n",
              "    }\n",
              "    20% {\n",
              "      border-color: transparent;\n",
              "      border-left-color: var(--fill-color);\n",
              "      border-top-color: var(--fill-color);\n",
              "    }\n",
              "    30% {\n",
              "      border-color: transparent;\n",
              "      border-left-color: var(--fill-color);\n",
              "      border-top-color: var(--fill-color);\n",
              "      border-right-color: var(--fill-color);\n",
              "    }\n",
              "    40% {\n",
              "      border-color: transparent;\n",
              "      border-right-color: var(--fill-color);\n",
              "      border-top-color: var(--fill-color);\n",
              "    }\n",
              "    60% {\n",
              "      border-color: transparent;\n",
              "      border-right-color: var(--fill-color);\n",
              "    }\n",
              "    80% {\n",
              "      border-color: transparent;\n",
              "      border-right-color: var(--fill-color);\n",
              "      border-bottom-color: var(--fill-color);\n",
              "    }\n",
              "    90% {\n",
              "      border-color: transparent;\n",
              "      border-bottom-color: var(--fill-color);\n",
              "    }\n",
              "  }\n",
              "</style>\n",
              "\n",
              "  <script>\n",
              "    async function quickchart(key) {\n",
              "      const quickchartButtonEl =\n",
              "        document.querySelector('#' + key + ' button');\n",
              "      quickchartButtonEl.disabled = true;  // To prevent multiple clicks.\n",
              "      quickchartButtonEl.classList.add('colab-df-spinner');\n",
              "      try {\n",
              "        const charts = await google.colab.kernel.invokeFunction(\n",
              "            'suggestCharts', [key], {});\n",
              "      } catch (error) {\n",
              "        console.error('Error during call to suggestCharts:', error);\n",
              "      }\n",
              "      quickchartButtonEl.classList.remove('colab-df-spinner');\n",
              "      quickchartButtonEl.classList.add('colab-df-quickchart-complete');\n",
              "    }\n",
              "    (() => {\n",
              "      let quickchartButtonEl =\n",
              "        document.querySelector('#df-944696cf-6cd4-43ba-be64-fba3afd8ffb8 button');\n",
              "      quickchartButtonEl.style.display =\n",
              "        google.colab.kernel.accessAllowed ? 'block' : 'none';\n",
              "    })();\n",
              "  </script>\n",
              "</div>\n",
              "    </div>\n",
              "  </div>\n"
            ]
          },
          "metadata": {},
          "execution_count": 25
        }
      ]
    },
    {
      "cell_type": "code",
      "source": [],
      "metadata": {
        "id": "1Jye3Jv952e7"
      },
      "id": "1Jye3Jv952e7",
      "execution_count": 25,
      "outputs": []
    },
    {
      "cell_type": "code",
      "source": [
        "#Меняем индекс датасета\n",
        "\n",
        "df['time_local'] = pd.to_datetime(df.index)\n",
        "df['new_index'] = range(df.shape[0])\n",
        "df.set_index('new_index', inplace=True)"
      ],
      "metadata": {
        "id": "eo3J1WO53oih"
      },
      "id": "eo3J1WO53oih",
      "execution_count": 26,
      "outputs": []
    },
    {
      "cell_type": "code",
      "source": [
        "# Подготовка данных к кластеризации\n",
        "\n",
        "from sklearn.feature_extraction.text import CountVectorizer\n",
        "\n",
        "# сделаем urls числовыми метками с помощью метода \"мешок слов\"\n",
        "# dummies_http_referer = pd.get_dummies(df['http_referer'], prefix ='http_referer')\n",
        "# dummies_request_path = pd.get_dummies(df['request_path'], prefix='request_path')\n",
        "# strs = ['request_path']\n",
        "# data_dict = df[[i]].to_dict(orient='records')\n",
        "df[i] = df['request_path'].apply(str)\n",
        "# Создание экземпляра DictVectorizer\n",
        "vectorizer = CountVectorizer(binary=True)\n",
        "\n",
        "# Преобразование категориального столбца в \"мешок слов\"\n",
        "transformed_data = vectorizer.fit_transform(df['request_path'])\n",
        "# Создание DataFrame из преобразованных данных\n",
        "transformed_df = pd.DataFrame(transformed_data.toarray(), columns=vectorizer.get_feature_names_out())\n",
        "\n",
        "# Объединение с исходным DataFrame\n",
        "df = df.drop(['request_path'], axis=1)\n",
        "\n",
        "# result = pd.concat([df, transformed_df], axis=1)\n",
        "\n",
        "\n"
      ],
      "metadata": {
        "id": "Lhe2h5EE5wKI"
      },
      "id": "Lhe2h5EE5wKI",
      "execution_count": 27,
      "outputs": []
    },
    {
      "cell_type": "code",
      "source": [
        "pd.concat([df, transformed_df])"
      ],
      "metadata": {
        "colab": {
          "base_uri": "https://localhost:8080/",
          "height": 175
        },
        "id": "sb7pScSd40aY",
        "outputId": "7fbded7e-f60d-46a3-de43-c8c38584cbfa"
      },
      "id": "sb7pScSd40aY",
      "execution_count": 1,
      "outputs": [
        {
          "output_type": "error",
          "ename": "NameError",
          "evalue": "ignored",
          "traceback": [
            "\u001b[0;31m---------------------------------------------------------------------------\u001b[0m",
            "\u001b[0;31mNameError\u001b[0m                                 Traceback (most recent call last)",
            "\u001b[0;32m<ipython-input-1-91194a4f72ae>\u001b[0m in \u001b[0;36m<cell line: 1>\u001b[0;34m()\u001b[0m\n\u001b[0;32m----> 1\u001b[0;31m \u001b[0mpd\u001b[0m\u001b[0;34m.\u001b[0m\u001b[0mconcat\u001b[0m\u001b[0;34m(\u001b[0m\u001b[0;34m[\u001b[0m\u001b[0mdf\u001b[0m\u001b[0;34m,\u001b[0m \u001b[0mtransformed_df\u001b[0m\u001b[0;34m]\u001b[0m\u001b[0;34m)\u001b[0m\u001b[0;34m\u001b[0m\u001b[0;34m\u001b[0m\u001b[0m\n\u001b[0m",
            "\u001b[0;31mNameError\u001b[0m: name 'pd' is not defined"
          ]
        }
      ]
    },
    {
      "cell_type": "code",
      "source": [
        "from sklearn.preprocessing import OneHotEncoder\n",
        "\n",
        "strs = ['country', 'continent','device', 'os', 'browser']\n",
        "#creating instance of one-hot-encoder\n",
        "encoder = OneHotEncoder(handle_unknown='ignore', sparse=False)\n",
        "stack = []\n",
        "#perform one-hot encoding on 'team' column\n",
        "for i in strs:\n",
        "  encoder_data = pd.DataFrame(encoder.fit_transform(df[[i]]))\n",
        "  encoded_df = pd.DataFrame(encoder_data, columns=encoder.get_feature_names_out([i]))\n",
        "\n",
        "  df = df.drop([i], axis=1)\n",
        "  stack.append(encoded_df)\n",
        "\n",
        "  #merge one-hot encoded columns back with original DataFrame\n",
        "  # result = pd.concat([df, encoded_df], axis=1)\n"
      ],
      "metadata": {
        "id": "YhqOfr_dhinl",
        "colab": {
          "base_uri": "https://localhost:8080/"
        },
        "outputId": "46197a77-b16d-4f15-c9d9-326b21e57684"
      },
      "id": "YhqOfr_dhinl",
      "execution_count": 28,
      "outputs": [
        {
          "output_type": "stream",
          "name": "stderr",
          "text": [
            "/usr/local/lib/python3.10/dist-packages/sklearn/preprocessing/_encoders.py:868: FutureWarning: `sparse` was renamed to `sparse_output` in version 1.2 and will be removed in 1.4. `sparse_output` is ignored unless you leave `sparse` to its default value.\n",
            "  warnings.warn(\n",
            "/usr/local/lib/python3.10/dist-packages/sklearn/preprocessing/_encoders.py:868: FutureWarning: `sparse` was renamed to `sparse_output` in version 1.2 and will be removed in 1.4. `sparse_output` is ignored unless you leave `sparse` to its default value.\n",
            "  warnings.warn(\n",
            "/usr/local/lib/python3.10/dist-packages/sklearn/preprocessing/_encoders.py:868: FutureWarning: `sparse` was renamed to `sparse_output` in version 1.2 and will be removed in 1.4. `sparse_output` is ignored unless you leave `sparse` to its default value.\n",
            "  warnings.warn(\n",
            "/usr/local/lib/python3.10/dist-packages/sklearn/preprocessing/_encoders.py:868: FutureWarning: `sparse` was renamed to `sparse_output` in version 1.2 and will be removed in 1.4. `sparse_output` is ignored unless you leave `sparse` to its default value.\n",
            "  warnings.warn(\n",
            "/usr/local/lib/python3.10/dist-packages/sklearn/preprocessing/_encoders.py:868: FutureWarning: `sparse` was renamed to `sparse_output` in version 1.2 and will be removed in 1.4. `sparse_output` is ignored unless you leave `sparse` to its default value.\n",
            "  warnings.warn(\n"
          ]
        }
      ]
    },
    {
      "cell_type": "code",
      "source": [],
      "metadata": {
        "id": "K6x6umbq7C-2"
      },
      "id": "K6x6umbq7C-2",
      "execution_count": null,
      "outputs": []
    },
    {
      "cell_type": "code",
      "source": [
        "df.join(encoded_df, lsuffix='_left', rsuffix='_right')"
      ],
      "metadata": {
        "id": "AdBgQts45y0X"
      },
      "id": "AdBgQts45y0X",
      "execution_count": null,
      "outputs": []
    },
    {
      "cell_type": "code",
      "source": [
        "# разделяем датафрейм df по кластерам\n",
        "\n",
        "df_bot = df[df['class']=='bot']\n",
        "df_mobile = df[df['class']=='mobile']\n",
        "df_pc = df[df['class']=='pc']\n"
      ],
      "metadata": {
        "id": "WFiipPDSz83B"
      },
      "id": "WFiipPDSz83B",
      "execution_count": null,
      "outputs": []
    },
    {
      "cell_type": "code",
      "source": [
        "stack_cluster = [df_bot, df_mobile, df_pc]"
      ],
      "metadata": {
        "id": "oH-aDvVYhSMZ"
      },
      "id": "oH-aDvVYhSMZ",
      "execution_count": null,
      "outputs": []
    },
    {
      "cell_type": "code",
      "execution_count": null,
      "id": "4c3c4ca8",
      "metadata": {
        "id": "4c3c4ca8"
      },
      "outputs": [],
      "source": [
        "#Сессии пользователей (remote_addr)\n",
        "finally_stack_cluster = []\n",
        "\n",
        "for cluster_data in stack_cluster:\n",
        "  event_df = cluster_data\n",
        "  event_df.sort_values(by=['remote_addr','http_user_agent', 'time_local'], inplace=True)\n",
        "  event_df['time_diff'] = event_df.groupby(['remote_addr','http_user_agent'])['time_local'].diff(1)\n",
        "  max_session_gap = pd.Timedelta(seconds=30)\n",
        "  session_mask = (event_df['time_diff'].isnull()) | (event_df['time_diff'].fillna(pd.Timedelta(seconds=0)) > max_session_gap)\n",
        "  event_df['session_id'] = (session_mask).cumsum()\n",
        "  #Время, проведенное на странице\n",
        "  event_df.sort_values(by=['remote_addr', 'time_local', 'session_id'], inplace=True)\n",
        "  event_df['time_on_page'] = event_df.groupby(['remote_addr','session_id'])['time_local'].diff(1)\n",
        "\n",
        "  #Перевод времени, проведенное на странице в секунды\n",
        "  event_df['time_on_page'] = event_df['time_on_page'].dt.total_seconds()\n",
        "\n",
        "\n",
        "  #События, которые были первыми в сессии\n",
        "  event_df['is_first_event_in_session'] = event_df.groupby('session_id').cumcount() == 0\n",
        "\n",
        "  event_df = event_df.sort_index()\n",
        "  finally_stack_cluster.append(event_df)"
      ]
    },
    {
      "cell_type": "code",
      "execution_count": null,
      "id": "812518da",
      "metadata": {
        "id": "812518da"
      },
      "outputs": [],
      "source": [
        "df_bot = finally_stack_cluster[0]\n",
        "df_mobile = finally_stack_cluster[1]\n",
        "df_pc = finally_stack_cluster[2]\n"
      ]
    },
    {
      "cell_type": "code",
      "source": [],
      "metadata": {
        "id": "WWeYt22Wo-Ud"
      },
      "id": "WWeYt22Wo-Ud",
      "execution_count": null,
      "outputs": []
    },
    {
      "cell_type": "code",
      "source": [
        "# посмотрим, как ходят пользователи в зависимости от того или иного кластера\n",
        "\n",
        "import retentioneering\n",
        "\n",
        "raw_data_schema = {\n",
        "    'user_id': 'http_user_agent',\n",
        "    'event_name': 'request_path',\n",
        "    'event_timestamp': 'time_local',\n",
        "\n",
        "    'custom_cols':[\n",
        "        {\n",
        "            'raw_data_col':'http_referer',\n",
        "            'custom_col':'http_referer'\n",
        "        },\n",
        "        {\n",
        "            'raw_data_col':'session_id',\n",
        "            'custom_col':'session_id'\n",
        "        }\n",
        "    ]\n",
        "}\n",
        "\n",
        "bot_eventstream = retentioneering.eventstream.Eventstream(df_bot,\n",
        "                                                          raw_data_schema=raw_data_schema)\n",
        "\n",
        "tablet_eventstream = retentioneering.eventstream.Eventstream(df_tablet,\n",
        "                                                          raw_data_schema=raw_data_schema)\n",
        "\n",
        "mobile_eventstream = retentioneering.eventstream.Eventstream(df_mobile,\n",
        "                                                          raw_data_schema=raw_data_schema)\n",
        "\n",
        "other_device_eventstream = retentioneering.eventstream.Eventstream(df_other_device,\n",
        "                                                          raw_data_schema=raw_data_schema)\n",
        "\n",
        "# bot_eventstream.transition_graph()\n",
        "\n",
        "pc_eventstream = retentioneering.eventstream.Eventstream(df_pc,\n",
        "                                                        #  user_sample_size=0.4,\n",
        "                                                          raw_data_schema=raw_data_schema)\n"
      ],
      "metadata": {
        "id": "uueem_gRf6c5"
      },
      "id": "uueem_gRf6c5",
      "execution_count": null,
      "outputs": []
    },
    {
      "cell_type": "code",
      "source": [
        "bot_eventstream.step_sankey(max_steps=10)"
      ],
      "metadata": {
        "id": "lyC6AX5qd378"
      },
      "id": "lyC6AX5qd378",
      "execution_count": null,
      "outputs": []
    },
    {
      "cell_type": "code",
      "source": [
        "mobile_eventstream.step_sankey(max_steps=10)"
      ],
      "metadata": {
        "id": "3dzfcQAzec1l"
      },
      "id": "3dzfcQAzec1l",
      "execution_count": null,
      "outputs": []
    },
    {
      "cell_type": "code",
      "source": [
        "pc_eventstream.step_sankey(max_steps=10, threshold=0.01)"
      ],
      "metadata": {
        "id": "4GzYj1AdeqWh"
      },
      "id": "4GzYj1AdeqWh",
      "execution_count": null,
      "outputs": []
    },
    {
      "cell_type": "code",
      "source": [],
      "metadata": {
        "id": "kZZPytw3ipfM"
      },
      "id": "kZZPytw3ipfM",
      "execution_count": null,
      "outputs": []
    },
    {
      "cell_type": "code",
      "source": [
        "# mobile_eventstream.transition_graph(\n",
        "#     edges_norm_type='node',\n",
        "#     edges_weight_col='session_id',\n",
        "#     nodes_threshold={'event_id': 5}\n",
        "# )"
      ],
      "metadata": {
        "id": "r6l7fLH8gPPJ"
      },
      "id": "r6l7fLH8gPPJ",
      "execution_count": null,
      "outputs": []
    },
    {
      "cell_type": "code",
      "source": [
        "# bot_eventstream.transition_graph(\n",
        "#     edges_norm_type='node',\n",
        "#     edges_weight_col='session_id',\n",
        "#     nodes_threshold={'event_id': 10}\n",
        "# )"
      ],
      "metadata": {
        "id": "k1LGZJp4pBL1"
      },
      "id": "k1LGZJp4pBL1",
      "execution_count": null,
      "outputs": []
    },
    {
      "cell_type": "code",
      "source": [
        "# pc_eventstream.transition_graph(\n",
        "#     edges_norm_type='node',\n",
        "#     edges_weight_col='session_id',\n",
        "#     nodes_threshold={'event_id': 3}\n",
        "# )"
      ],
      "metadata": {
        "id": "RbFU-owGptLe"
      },
      "id": "RbFU-owGptLe",
      "execution_count": null,
      "outputs": []
    },
    {
      "cell_type": "code",
      "source": [
        "# tablet_eventstream.transition_graph(\n",
        "#     edges_norm_type='node',\n",
        "#     edges_weight_col='session_id',\n",
        "#     nodes_threshold={'event_id': 1}\n",
        "# )"
      ],
      "metadata": {
        "id": "BAzMdrDzpuMh"
      },
      "id": "BAzMdrDzpuMh",
      "execution_count": null,
      "outputs": []
    },
    {
      "cell_type": "code",
      "source": [
        "# other_device_eventstream.transition_graph(\n",
        "#     edges_norm_type='node',\n",
        "#     edges_weight_col='session_id',\n",
        "#     nodes_threshold={'event_id': 0}\n",
        "# )"
      ],
      "metadata": {
        "id": "hvAS20d0pugX"
      },
      "id": "hvAS20d0pugX",
      "execution_count": null,
      "outputs": []
    },
    {
      "cell_type": "code",
      "source": [
        "from retentioneering.tooling.clusters import Clusters\n",
        "\n",
        "clusters = Clusters(eventstream=pc_eventstream)\n",
        "features = clusters.extract_features(ngram_range=(1, 2), feature_type='markov')\n",
        "clusters.fit(method='kmeans', n_clusters=2, X=features, random_state=42)\n",
        "\n",
        "clusters.projection(method='tsne')"
      ],
      "metadata": {
        "id": "50e4tLEX0kHx"
      },
      "id": "50e4tLEX0kHx",
      "execution_count": null,
      "outputs": []
    },
    {
      "cell_type": "code",
      "execution_count": null,
      "id": "c81ca932",
      "metadata": {
        "scrolled": false,
        "id": "c81ca932"
      },
      "outputs": [],
      "source": [
        "#Наиболее посещаемые страницы\n",
        "page_visits_200 = df[df['status']==200]['request_path'].unique()\n",
        "page_visits_counts_200 = df[df['status']==200]['request_path'].nunique()\n",
        "\n",
        "page_visits_301 = df[df['status']==301]['request_path'].unique()\n",
        "page_visits_counts_301 = df[df['status']==301]['request_path'].nunique()\n",
        "\n",
        "print(page_visits_301)\n",
        "print(page_visits_counts_301)"
      ]
    },
    {
      "cell_type": "code",
      "source": [],
      "metadata": {
        "id": "TBhBIBCBWvUI"
      },
      "id": "TBhBIBCBWvUI",
      "execution_count": null,
      "outputs": []
    },
    {
      "cell_type": "code",
      "execution_count": null,
      "id": "06559f04",
      "metadata": {
        "id": "06559f04"
      },
      "outputs": [],
      "source": [
        "#Определение местонахождения пользователей\n",
        "\n",
        "# import requests\n",
        "\n",
        "# def get_location_by_ip(ip_address, country_list):\n",
        "#     # URL для запроса\n",
        "#     api_key = \"a7c341596a5ca580c3a5ceea3ac017dc\"\n",
        "#     url = f\"http://api.ipstack.com/{ip_address}?access_key={api_key}\"\n",
        "\n",
        "#     try:\n",
        "#         # Отправляем запрос и получаем ответ в формате JSON\n",
        "#         response = requests.get(url)\n",
        "#         data = response.json()\n",
        "\n",
        "#         # Извлекаем интересующие нас данные о местоположении\n",
        "# #         city = data.get('city', 'N/A')\n",
        "#         country = data.get('country_name', 'N/A')\n",
        "\n",
        "#         # Выводим информацию о местоположении\n",
        "# #         print(\"Местоположение по IP:\")\n",
        "# #         print(f\"Город: {city}\")\n",
        "# #         print('\\n')\n",
        "\n",
        "#         country_list.append(country)\n",
        "# #         city_list.append(city)\n",
        "#     except requests.exceptions.RequestException as e:\n",
        "#         print(\"Произошла ошибка при запросе к API:\", e)\n",
        "\n",
        "# # Ваш API-ключ от ipstack\n",
        "\n",
        "# country_list = []\n",
        "# ip_addr_list = df['remote_addr'].unique().tolist()\n",
        "\n",
        "# for i in ip_addr_list:\n",
        "# # IP-адрес для запроса местоположения\n",
        "#     ip_address = i\n",
        "\n",
        "# # Получаем информацию о местоположении по IP\n",
        "#     get_location_by_ip(ip_address, country_list)\n",
        "\n"
      ]
    },
    {
      "cell_type": "code",
      "execution_count": null,
      "id": "9e75f3ee",
      "metadata": {
        "id": "9e75f3ee"
      },
      "outputs": [],
      "source": [
        "\n",
        "# print(country_list)\n",
        "\n",
        "# from collections import Counter\n",
        "\n",
        "# counter = Counter(country_list)\n",
        "\n",
        "# plt.figure(figsize=(12, 7))\n",
        "# plt.plot(counter.items(),counter.values(), marker='o')\n",
        "\n",
        "# plt.ylabel('Количество')\n",
        "# plt.xlabel('Страны')\n",
        "# plt.title('Страны пользователей')\n",
        "# plt.grid(which='both', linewidth=0.5)\n",
        "# plt.show()\n"
      ]
    },
    {
      "cell_type": "code",
      "execution_count": null,
      "id": "9f862d91",
      "metadata": {
        "id": "9f862d91"
      },
      "outputs": [],
      "source": [
        "# Зависимость body_bytes_sent от request_path"
      ]
    }
  ],
  "metadata": {
    "kernelspec": {
      "display_name": "Python 3 (ipykernel)",
      "language": "python",
      "name": "python3"
    },
    "language_info": {
      "codemirror_mode": {
        "name": "ipython",
        "version": 3
      },
      "file_extension": ".py",
      "mimetype": "text/x-python",
      "name": "python",
      "nbconvert_exporter": "python",
      "pygments_lexer": "ipython3",
      "version": "3.9.7"
    },
    "colab": {
      "provenance": [],
      "include_colab_link": true
    }
  },
  "nbformat": 4,
  "nbformat_minor": 5
}