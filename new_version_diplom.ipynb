{
 "cells": [
  {
   "cell_type": "code",
   "execution_count": 1,
   "id": "0a0b6be5",
   "metadata": {},
   "outputs": [
    {
     "name": "stdout",
     "output_type": "stream",
     "text": [
      "Requirement already satisfied: pandas in c:\\users\\egor\\anaconda3\\lib\\site-packages (1.5.3)\n",
      "Requirement already satisfied: pytz>=2020.1 in c:\\users\\egor\\anaconda3\\lib\\site-packages (from pandas) (2021.3)\n",
      "Requirement already satisfied: numpy>=1.20.3 in c:\\users\\egor\\anaconda3\\lib\\site-packages (from pandas) (1.26.1)\n",
      "Requirement already satisfied: python-dateutil>=2.8.1 in c:\\users\\egor\\anaconda3\\lib\\site-packages (from pandas) (2.8.2)\n",
      "Requirement already satisfied: six>=1.5 in c:\\users\\egor\\anaconda3\\lib\\site-packages (from python-dateutil>=2.8.1->pandas) (1.16.0)\n",
      "Requirement already satisfied: threadpoolctl==3.1.0 in c:\\users\\egor\\anaconda3\\lib\\site-packages (3.1.0)\n",
      "Requirement already satisfied: user_agents in c:\\users\\egor\\anaconda3\\lib\\site-packages (2.2.0)\n",
      "Requirement already satisfied: ua-parser>=0.10.0 in c:\\users\\egor\\anaconda3\\lib\\site-packages (from user_agents) (0.18.0)\n",
      "Requirement already satisfied: geoip2 in c:\\users\\egor\\anaconda3\\lib\\site-packages (4.7.0)\n",
      "Requirement already satisfied: aiohttp<4.0.0,>=3.6.2 in c:\\users\\egor\\anaconda3\\lib\\site-packages (from geoip2) (3.8.6)\n",
      "Requirement already satisfied: maxminddb<3.0.0,>=2.3.0 in c:\\users\\egor\\anaconda3\\lib\\site-packages (from geoip2) (2.4.0)\n",
      "Requirement already satisfied: requests<3.0.0,>=2.24.0 in c:\\users\\egor\\appdata\\roaming\\python\\python39\\site-packages (from geoip2) (2.31.0)\n",
      "Requirement already satisfied: async-timeout<5.0,>=4.0.0a3 in c:\\users\\egor\\anaconda3\\lib\\site-packages (from aiohttp<4.0.0,>=3.6.2->geoip2) (4.0.3)\n",
      "Requirement already satisfied: multidict<7.0,>=4.5 in c:\\users\\egor\\anaconda3\\lib\\site-packages (from aiohttp<4.0.0,>=3.6.2->geoip2) (6.0.4)\n",
      "Requirement already satisfied: charset-normalizer<4.0,>=2.0 in c:\\users\\egor\\anaconda3\\lib\\site-packages (from aiohttp<4.0.0,>=3.6.2->geoip2) (2.0.4)\n",
      "Requirement already satisfied: attrs>=17.3.0 in c:\\users\\egor\\anaconda3\\lib\\site-packages (from aiohttp<4.0.0,>=3.6.2->geoip2) (23.1.0)\n",
      "Requirement already satisfied: frozenlist>=1.1.1 in c:\\users\\egor\\anaconda3\\lib\\site-packages (from aiohttp<4.0.0,>=3.6.2->geoip2) (1.4.0)\n",
      "Requirement already satisfied: aiosignal>=1.1.2 in c:\\users\\egor\\anaconda3\\lib\\site-packages (from aiohttp<4.0.0,>=3.6.2->geoip2) (1.3.1)\n",
      "Requirement already satisfied: yarl<2.0,>=1.0 in c:\\users\\egor\\anaconda3\\lib\\site-packages (from aiohttp<4.0.0,>=3.6.2->geoip2) (1.9.2)\n",
      "Requirement already satisfied: certifi>=2017.4.17 in c:\\users\\egor\\anaconda3\\lib\\site-packages (from requests<3.0.0,>=2.24.0->geoip2) (2021.10.8)\n",
      "Requirement already satisfied: idna<4,>=2.5 in c:\\users\\egor\\anaconda3\\lib\\site-packages (from requests<3.0.0,>=2.24.0->geoip2) (3.2)\n",
      "Requirement already satisfied: urllib3<3,>=1.21.1 in c:\\users\\egor\\anaconda3\\lib\\site-packages (from requests<3.0.0,>=2.24.0->geoip2) (1.26.7)\n"
     ]
    }
   ],
   "source": [
    "!pip install pandas\n",
    "!pip install threadpoolctl==3.1.0\n",
    "!pip install user_agents\n",
    "# pip install retentioneering\n",
    "!pip install geoip2\n",
    "# !pip install tensorflow\n"
   ]
  },
  {
   "cell_type": "code",
   "execution_count": 2,
   "id": "8f924bd0",
   "metadata": {},
   "outputs": [],
   "source": [
    "import pandas as pd\n",
    "from sklearn.cluster import KMeans\n",
    "from sklearn.model_selection import train_test_split\n",
    "from sklearn.decomposition import PCA\n",
    "import numpy as np\n",
    "import time\n",
    "from user_agents import parse\n",
    "import matplotlib.pyplot as plt\n",
    "from sklearn.feature_extraction.text import CountVectorizer"
   ]
  },
  {
   "cell_type": "code",
   "execution_count": 3,
   "id": "0e249422",
   "metadata": {},
   "outputs": [
    {
     "name": "stderr",
     "output_type": "stream",
     "text": [
      "<ipython-input-3-9f254c559287>:3: DtypeWarning: Columns (1,2) have mixed types. Specify dtype option on import or set low_memory=False.\n",
      "  data = pd.read_csv(\"database.csv\", delimiter=';', on_bad_lines='skip')\n"
     ]
    }
   ],
   "source": [
    "# получаем данные из БД, и в переменную df отбираем только те, где user_agent и request_path != None\n",
    "\n",
    "data = pd.read_csv(\"database.csv\", delimiter=';', on_bad_lines='skip')\n",
    "df = data[~data[['http_user_agent','request_path']].isna().any(axis=1)].reset_index(drop=True)\n",
    "df_main = df"
   ]
  },
  {
   "cell_type": "code",
   "execution_count": 4,
   "id": "7b448fc1",
   "metadata": {},
   "outputs": [],
   "source": [
    "# с помощью библиотеки user_agents из user_agent вытаскиваем ОС, браузер и устройство пользователя и добавляем в df\n",
    "\n",
    "stack_device = []\n",
    "stack_os = []\n",
    "stack_browser = []\n",
    "is_mozilla = []\n",
    "\n",
    "\n",
    "unique_data_ua = df['http_user_agent'].tolist()\n",
    "for ua_string in unique_data_ua:\n",
    "    ua = parse(ua_string)\n",
    "    stack_device.append(ua.device.family)\n",
    "    stack_os.append(ua.os.family)\n",
    "    stack_browser.append(ua.browser.family)\n",
    "\n",
    "    if 'Mozilla' in ua_string:\n",
    "        is_mozilla.append(1)\n",
    "        continue\n",
    "    else:\n",
    "        is_mozilla.append(0)\n",
    "\n",
    "df['device'] = stack_device\n",
    "df['os'] = stack_os\n",
    "df['browser']= stack_browser\n",
    "df['is_mozilla'] = is_mozilla"
   ]
  },
  {
   "cell_type": "code",
   "execution_count": 5,
   "id": "acac22ca",
   "metadata": {},
   "outputs": [],
   "source": [
    "# с помощью бесплатной БД GeoIP вычисляем по ip страну и континент, откуда заходил пользователь\n",
    "\n",
    "import geoip2.database\n",
    "\n",
    "stack_country = []\n",
    "stack_continent = []\n",
    "\n",
    "reader = geoip2.database.Reader('GeoLite2-Country.mmdb')\n",
    "unique_ip = df['remote_addr'].tolist()\n",
    "\n",
    "for i in unique_ip:\n",
    "    response = reader.country(i)\n",
    "    stack_country.append(response.country.name)\n",
    "    stack_continent.append(response.continent.name)\n",
    "\n",
    "reader.close()\n",
    "\n",
    "df['country'] = stack_country\n",
    "df['continent'] = stack_continent\n",
    "df = df.drop('remote_addr', axis=1)\n",
    "df = df.drop('http_user_agent', axis=1)"
   ]
  },
  {
   "cell_type": "code",
   "execution_count": 6,
   "id": "d5befeeb",
   "metadata": {},
   "outputs": [],
   "source": [
    "# Подготовка данных (http_referer и request_path) к кластеризации \n",
    "\n",
    "df['http_referer'] = df['http_referer'].fillna('http://nan')\n",
    "# пссмотреть в pd\n",
    "# Нахождение самых популярных слов для request_path и http_referer\n",
    "import re\n",
    "from collections import Counter\n",
    "\n",
    "def most_pop_words(naming, n):\n",
    "    urls = df[naming].tolist()\n",
    "\n",
    "\n",
    "    stack_u = []\n",
    "    pattern = r'(?<=\\/)[^\\/]+'\n",
    "    for i in range(df.shape[0]):\n",
    "        words = re.findall(pattern, urls[i])\n",
    "        stack_u += words\n",
    "\n",
    "    counter = Counter(stack_u)\n",
    "    most_pop_words = [key for key, value in counter.items() if value > n]\n",
    "    \n",
    "    return most_pop_words\n",
    "    \n",
    "most_pop_words_request_path = most_pop_words('request_path', 30)\n",
    "most_pop_words_http_referer = most_pop_words('http_referer', 10)\n"
   ]
  },
  {
   "cell_type": "code",
   "execution_count": 7,
   "id": "0e7610a8",
   "metadata": {},
   "outputs": [
    {
     "name": "stderr",
     "output_type": "stream",
     "text": [
      "C:\\Users\\Egor\\AppData\\Roaming\\Python\\Python39\\site-packages\\sklearn\\feature_extraction\\text.py:1380: UserWarning: Upper case characters found in vocabulary while 'lowercase' is True. These entries will not be matched with any documents\n",
      "  warnings.warn(\n",
      "C:\\Users\\Egor\\AppData\\Roaming\\Python\\Python39\\site-packages\\sklearn\\feature_extraction\\text.py:1380: UserWarning: Upper case characters found in vocabulary while 'lowercase' is True. These entries will not be matched with any documents\n",
      "  warnings.warn(\n"
     ]
    }
   ],
   "source": [
    "# преобразование категориальных данных в числовые с помощью \"мешка слов\" для http_referer и request_path\n",
    "dict_of_df = {}\n",
    "\n",
    "vectorizer = CountVectorizer(token_pattern=r'(?<=\\/)[^\\/]+', vocabulary= most_pop_words_request_path)\n",
    "transformed_data = vectorizer.fit_transform(df['request_path'])\n",
    "transformed_df1 = pd.DataFrame(transformed_data.toarray(), columns=vectorizer.get_feature_names_out())\n",
    "dict_of_df['request_path'] = transformed_df1\n",
    "\n",
    "# преобразование в вектор для http_referer\n",
    "vectorizer = CountVectorizer(token_pattern=r'(?<=\\/)[^\\/]+', vocabulary= most_pop_words_http_referer)\n",
    "transformed_data = vectorizer.fit_transform(df['http_referer'])\n",
    "transformed_df2 = pd.DataFrame(transformed_data.toarray(), columns=vectorizer.get_feature_names_out())\n",
    "dict_of_df['http_referer'] = transformed_df2\n",
    "\n",
    "df = pd.concat([df,transformed_df1, transformed_df2], axis=1)"
   ]
  },
  {
   "cell_type": "code",
   "execution_count": 8,
   "id": "ce446f72",
   "metadata": {},
   "outputs": [],
   "source": [
    "# преобразование категориальных данных в числовые с помощью \"One-Hot-Encoder\" для других кат. данных\n",
    "\n",
    "from sklearn.preprocessing import OneHotEncoder\n",
    "\n",
    "strs = ['country', 'continent','device', 'os', 'browser','request_method', 'request_proto']\n",
    "encoder = OneHotEncoder(handle_unknown='ignore',drop='first')\n",
    "\n",
    "for i in strs:\n",
    "    data_to_encode = df[[i]]\n",
    "    encoder.fit(data_to_encode)\n",
    "    encoded_column_names = list(encoder.get_feature_names_out(data_to_encode.columns))\n",
    "    encoded_data = encoder.transform(data_to_encode)\n",
    "    encoder_df = pd.DataFrame(encoded_data.toarray(), columns=encoded_column_names)\n",
    "    df = pd.concat([df,encoder_df], axis=1)\n",
    "    dict_of_df[i] = encoder_df "
   ]
  },
  {
   "cell_type": "code",
   "execution_count": 9,
   "id": "3d9a037b",
   "metadata": {},
   "outputs": [],
   "source": [
    "# выделяем только время в time_local и пересчитываем на секунды\n",
    "df['time_local'] = pd.to_datetime(df['time_local'])\n",
    "def time_to_seconds(time):\n",
    "    return time.hour * 3600 + time.minute * 60 + time.second\n",
    "\n",
    "df['time_local'] = pd.to_datetime(df['time_local'], format='%H:%M:%S').dt.time\n",
    "df['time_local'] = df['time_local'].apply(lambda x: time_to_seconds(x))"
   ]
  },
  {
   "cell_type": "code",
   "execution_count": 10,
   "id": "a2382338",
   "metadata": {},
   "outputs": [],
   "source": [
    "# удаление след. слобцов\n",
    "\n",
    "df = df.drop(['http_referer',\n",
    "              'request_method',\n",
    "              'request_path',\n",
    "              'request_proto',\n",
    "              'device',\n",
    "              'os',\n",
    "              'browser',\n",
    "             'country',\n",
    "             'continent'], axis =1)\n"
   ]
  },
  {
   "cell_type": "code",
   "execution_count": 11,
   "id": "f9c4d0f8",
   "metadata": {},
   "outputs": [],
   "source": [
    "# Стандартизация данных\n",
    "\n",
    "from sklearn.preprocessing import StandardScaler\n",
    "\n",
    "# X_train, X_test = train_test_split(df, test_size=0.3, random_state=42)\n",
    "\n",
    "# numeric = ['body_bytes_sent', 'time_local','request_time', 'status']\n",
    "# scaler = StandardScaler()\n",
    "\n",
    "# scaler.fit(X_train[numeric])\n",
    "# X_train[numeric] = scaler.transform(X_train[numeric])\n",
    "# X_test[numeric] = scaler.transform(X_test[numeric])"
   ]
  },
  {
   "cell_type": "code",
   "execution_count": 12,
   "id": "585b453b",
   "metadata": {},
   "outputs": [],
   "source": [
    "# метод локтя\n",
    "\n",
    "# wcss = []\n",
    "\n",
    "# for i in range(1, 15):\n",
    "#     kmeans = KMeans(n_clusters = i, init = 'k-means++', max_iter = 300, random_state = 42)\n",
    "#     kmeans.fit(X_train)\n",
    "#     wcss.append(kmeans.inertia_)\n",
    "\n",
    "# plt.figure(figsize = (10,6))\n",
    "\n",
    "# plt.plot(range(1,15), wcss, marker='o', linestyle='--')\n",
    "# plt.title('Выбор количества кластеров методом локтя')\n",
    "# plt.xlabel('Количество кластеров')\n",
    "# plt.ylabel('WCSS')\n",
    "# plt.show()"
   ]
  },
  {
   "cell_type": "code",
   "execution_count": 13,
   "id": "2c69d850",
   "metadata": {},
   "outputs": [],
   "source": [
    "# Кластеризация данных с помощью метода k-means\n",
    "\n",
    "from sklearn.manifold import TSNE\n",
    "\n",
    "# tsne = TSNE(n_components=2, random_state=42)\n",
    "# X_tsne = tsne.fit_transform(X_train)\n",
    "\n",
    "# # Кластеризация данных с помощью KMeans после уменьшения размерности\n",
    "# kmeans = KMeans(n_clusters=5, max_iter=300, random_state=42)\n",
    "# kmeans.fit(X_tsne)\n",
    "\n",
    "# # Получение меток кластеров для каждой точки данных\n",
    "# labels = kmeans.labels_\n",
    "\n",
    "# # Визуализация кластеров с использованием t-SNE\n",
    "# plt.figure(figsize=(8, 6))\n",
    "# plt.scatter(X_tsne[:, 0], X_tsne[:, 1], c=labels, cmap='viridis', marker='o', alpha=0.5)\n",
    "# plt.scatter(kmeans.cluster_centers_[:, 0], kmeans.cluster_centers_[:, 1], s=300, c='red', marker='*', label='Centroids')\n",
    "# plt.title('Кластеризация с помощью KMeans после t-SNE')\n",
    "# plt.xlabel('Component 1')\n",
    "# plt.ylabel('Component 2')\n",
    "# plt.legend()\n",
    "# plt.show()"
   ]
  },
  {
   "cell_type": "code",
   "execution_count": 14,
   "id": "55da8a37",
   "metadata": {},
   "outputs": [],
   "source": [
    "dict_of_df['is_mozilla'] = df['is_mozilla']"
   ]
  },
  {
   "cell_type": "code",
   "execution_count": 15,
   "id": "15079f3c",
   "metadata": {},
   "outputs": [],
   "source": [
    "# кластеризация по user_agent\n",
    "\n",
    "train_test_df = pd.concat([dict_of_df['os'],\n",
    "                   dict_of_df['browser'],\n",
    "                   dict_of_df['is_mozilla'],\n",
    "                   dict_of_df['device'],\n",
    "                   df['time_local'],\n",
    "                   dict_of_df['request_path'], \n",
    "                   df['body_bytes_sent'], \n",
    "                   df['request_time'],\n",
    "                   df_main['remote_addr'],\n",
    "                   df_main['http_user_agent']], \n",
    "                   axis=1)\n",
    "\n",
    "X_train, X_test = train_test_split(train_test_df.drop(['remote_addr', 'http_user_agent'], axis=1), test_size=0.3, random_state=42)\n",
    "\n",
    "# numeric = ['body_bytes_sent', 'time_local','request_time', 'status']\n",
    "numeric = ['body_bytes_sent', 'time_local', 'request_time']\n",
    "scaler = StandardScaler()\n",
    "\n",
    "scaler.fit(X_train[numeric])\n",
    "X_train[numeric] = scaler.transform(X_train[numeric])\n",
    "X_test[numeric] = scaler.transform(X_test[numeric])\n",
    "\n"
   ]
  },
  {
   "cell_type": "code",
   "execution_count": 16,
   "id": "c62c0311",
   "metadata": {},
   "outputs": [
    {
     "name": "stderr",
     "output_type": "stream",
     "text": [
      "C:\\Users\\Egor\\AppData\\Roaming\\Python\\Python39\\site-packages\\sklearn\\cluster\\_kmeans.py:870: FutureWarning: The default value of `n_init` will change from 10 to 'auto' in 1.4. Set the value of `n_init` explicitly to suppress the warning\n",
      "  warnings.warn(\n",
      "C:\\Users\\Egor\\AppData\\Roaming\\Python\\Python39\\site-packages\\sklearn\\cluster\\_kmeans.py:870: FutureWarning: The default value of `n_init` will change from 10 to 'auto' in 1.4. Set the value of `n_init` explicitly to suppress the warning\n",
      "  warnings.warn(\n",
      "C:\\Users\\Egor\\AppData\\Roaming\\Python\\Python39\\site-packages\\sklearn\\cluster\\_kmeans.py:870: FutureWarning: The default value of `n_init` will change from 10 to 'auto' in 1.4. Set the value of `n_init` explicitly to suppress the warning\n",
      "  warnings.warn(\n",
      "C:\\Users\\Egor\\AppData\\Roaming\\Python\\Python39\\site-packages\\sklearn\\cluster\\_kmeans.py:870: FutureWarning: The default value of `n_init` will change from 10 to 'auto' in 1.4. Set the value of `n_init` explicitly to suppress the warning\n",
      "  warnings.warn(\n",
      "C:\\Users\\Egor\\AppData\\Roaming\\Python\\Python39\\site-packages\\sklearn\\cluster\\_kmeans.py:870: FutureWarning: The default value of `n_init` will change from 10 to 'auto' in 1.4. Set the value of `n_init` explicitly to suppress the warning\n",
      "  warnings.warn(\n",
      "C:\\Users\\Egor\\AppData\\Roaming\\Python\\Python39\\site-packages\\sklearn\\cluster\\_kmeans.py:870: FutureWarning: The default value of `n_init` will change from 10 to 'auto' in 1.4. Set the value of `n_init` explicitly to suppress the warning\n",
      "  warnings.warn(\n",
      "C:\\Users\\Egor\\AppData\\Roaming\\Python\\Python39\\site-packages\\sklearn\\cluster\\_kmeans.py:870: FutureWarning: The default value of `n_init` will change from 10 to 'auto' in 1.4. Set the value of `n_init` explicitly to suppress the warning\n",
      "  warnings.warn(\n"
     ]
    },
    {
     "data": {
      "image/png": "[encoded data removed]",
      "text/plain": [
       "<Figure size 720x432 with 1 Axes>"
      ]
     },
     "metadata": {
      "needs_background": "light"
     },
     "output_type": "display_data"
    }
   ],
   "source": [
    "# Метод локтя для отбора количества кластеров\n",
    "\n",
    "wcss = [] # сумма квадратов расстояния между каждой точкой и центроидом кластера\n",
    "\n",
    "for i in range(1, 8):\n",
    "    kmeans = KMeans(n_clusters = i, init = 'k-means++', max_iter = 300, random_state = 42)\n",
    "    kmeans.fit(X_train)\n",
    "    wcss.append(kmeans.inertia_)\n",
    "\n",
    "plt.figure(figsize = (10,6))\n",
    "\n",
    "plt.plot(range(1,8), wcss, marker='o', linestyle='--')\n",
    "plt.title('Выбор количества кластеров методом локтя')\n",
    "plt.xlabel('Количество кластеров')\n",
    "plt.ylabel('WCSS')\n",
    "plt.show()"
   ]
  },
  {
   "cell_type": "code",
   "execution_count": 17,
   "id": "5688feda",
   "metadata": {},
   "outputs": [
    {
     "name": "stderr",
     "output_type": "stream",
     "text": [
      "C:\\Users\\Egor\\AppData\\Roaming\\Python\\Python39\\site-packages\\sklearn\\cluster\\_kmeans.py:870: FutureWarning: The default value of `n_init` will change from 10 to 'auto' in 1.4. Set the value of `n_init` explicitly to suppress the warning\n",
      "  warnings.warn(\n"
     ]
    },
    {
     "data": {
      "image/png": "[encoded data removed]",
      "text/plain": [
       "<Figure size 576x432 with 1 Axes>"
      ]
     },
     "metadata": {
      "needs_background": "light"
     },
     "output_type": "display_data"
    }
   ],
   "source": [
    "tsne = TSNE(n_components=2, random_state=42)\n",
    "X_tsne = tsne.fit_transform(X_train)\n",
    "\n",
    "# Кластеризация данных с помощью KMeans после уменьшения размерности\n",
    "kmeans = KMeans(n_clusters=5, max_iter=300, random_state=42)\n",
    "kmeans.fit(X_tsne)\n",
    "\n",
    "# Получение меток кластеров для каждой точки данных\n",
    "labels = kmeans.labels_\n",
    "\n",
    "# Визуализация кластеров с использованием t-SNE\n",
    "plt.figure(figsize=(8, 6))\n",
    "plt.scatter(X_tsne[:, 0], X_tsne[:, 1], c=labels, cmap='viridis', marker='o', alpha=0.5)\n",
    "plt.scatter(kmeans.cluster_centers_[:, 0], kmeans.cluster_centers_[:, 1], s=300, c='red', marker='*', label='Centroids')\n",
    "plt.title('Кластеризация с помощью KMeans после t-SNE')\n",
    "plt.xlabel('Component 1')\n",
    "plt.ylabel('Component 2')\n",
    "plt.legend()\n",
    "plt.show()"
   ]
  },
  {
   "cell_type": "code",
   "execution_count": 18,
   "id": "c7a8b855",
   "metadata": {},
   "outputs": [
    {
     "name": "stdout",
     "output_type": "stream",
     "text": [
      "Silhouette Score: 0.04048387786340303\n"
     ]
    }
   ],
   "source": [
    "# проверка качества кластеризации по признаку user_agent\n",
    "\n",
    "from sklearn.metrics import silhouette_score\n",
    "\n",
    "predicted_labels = kmeans.labels_\n",
    "\n",
    "# Оценка качества кластеризации с помощью Silhouette Score\n",
    "silhouette_avg = silhouette_score(X_train, predicted_labels)\n",
    "print(\"Silhouette Score:\", silhouette_avg)"
   ]
  },
  {
   "cell_type": "code",
   "execution_count": 19,
   "id": "1bfedf9e",
   "metadata": {},
   "outputs": [
    {
     "ename": "ValueError",
     "evalue": "Length of values (140534) does not match length of index (200764)",
     "output_type": "error",
     "traceback": [
      "\u001b[1;31m---------------------------------------------------------------------------\u001b[0m",
      "\u001b[1;31mValueError\u001b[0m                                Traceback (most recent call last)",
      "\u001b[1;32m<ipython-input-19-b0c69e1193c4>\u001b[0m in \u001b[0;36m<cell line: 3>\u001b[1;34m()\u001b[0m\n\u001b[0;32m      1\u001b[0m \u001b[1;31m# присваивание меток кластера\u001b[0m\u001b[1;33m\u001b[0m\u001b[1;33m\u001b[0m\u001b[0m\n\u001b[0;32m      2\u001b[0m \u001b[1;33m\u001b[0m\u001b[0m\n\u001b[1;32m----> 3\u001b[1;33m \u001b[0mtrain_test_df\u001b[0m\u001b[1;33m[\u001b[0m\u001b[1;34m'class'\u001b[0m\u001b[1;33m]\u001b[0m \u001b[1;33m=\u001b[0m \u001b[0mkmeans\u001b[0m\u001b[1;33m.\u001b[0m\u001b[0mlabels_\u001b[0m\u001b[1;33m\u001b[0m\u001b[1;33m\u001b[0m\u001b[0m\n\u001b[0m",
      "\u001b[1;32m~\\anaconda3\\lib\\site-packages\\pandas\\core\\frame.py\u001b[0m in \u001b[0;36m__setitem__\u001b[1;34m(self, key, value)\u001b[0m\n\u001b[0;32m   3978\u001b[0m         \u001b[1;32melse\u001b[0m\u001b[1;33m:\u001b[0m\u001b[1;33m\u001b[0m\u001b[1;33m\u001b[0m\u001b[0m\n\u001b[0;32m   3979\u001b[0m             \u001b[1;31m# set column\u001b[0m\u001b[1;33m\u001b[0m\u001b[1;33m\u001b[0m\u001b[0m\n\u001b[1;32m-> 3980\u001b[1;33m             \u001b[0mself\u001b[0m\u001b[1;33m.\u001b[0m\u001b[0m_set_item\u001b[0m\u001b[1;33m(\u001b[0m\u001b[0mkey\u001b[0m\u001b[1;33m,\u001b[0m \u001b[0mvalue\u001b[0m\u001b[1;33m)\u001b[0m\u001b[1;33m\u001b[0m\u001b[1;33m\u001b[0m\u001b[0m\n\u001b[0m\u001b[0;32m   3981\u001b[0m \u001b[1;33m\u001b[0m\u001b[0m\n\u001b[0;32m   3982\u001b[0m     \u001b[1;32mdef\u001b[0m \u001b[0m_setitem_slice\u001b[0m\u001b[1;33m(\u001b[0m\u001b[0mself\u001b[0m\u001b[1;33m,\u001b[0m \u001b[0mkey\u001b[0m\u001b[1;33m:\u001b[0m \u001b[0mslice\u001b[0m\u001b[1;33m,\u001b[0m \u001b[0mvalue\u001b[0m\u001b[1;33m)\u001b[0m\u001b[1;33m:\u001b[0m\u001b[1;33m\u001b[0m\u001b[1;33m\u001b[0m\u001b[0m\n",
      "\u001b[1;32m~\\anaconda3\\lib\\site-packages\\pandas\\core\\frame.py\u001b[0m in \u001b[0;36m_set_item\u001b[1;34m(self, key, value)\u001b[0m\n\u001b[0;32m   4172\u001b[0m         \u001b[0mensure\u001b[0m \u001b[0mhomogeneity\u001b[0m\u001b[1;33m.\u001b[0m\u001b[1;33m\u001b[0m\u001b[1;33m\u001b[0m\u001b[0m\n\u001b[0;32m   4173\u001b[0m         \"\"\"\n\u001b[1;32m-> 4174\u001b[1;33m         \u001b[0mvalue\u001b[0m \u001b[1;33m=\u001b[0m \u001b[0mself\u001b[0m\u001b[1;33m.\u001b[0m\u001b[0m_sanitize_column\u001b[0m\u001b[1;33m(\u001b[0m\u001b[0mvalue\u001b[0m\u001b[1;33m)\u001b[0m\u001b[1;33m\u001b[0m\u001b[1;33m\u001b[0m\u001b[0m\n\u001b[0m\u001b[0;32m   4175\u001b[0m \u001b[1;33m\u001b[0m\u001b[0m\n\u001b[0;32m   4176\u001b[0m         if (\n",
      "\u001b[1;32m~\\anaconda3\\lib\\site-packages\\pandas\\core\\frame.py\u001b[0m in \u001b[0;36m_sanitize_column\u001b[1;34m(self, value)\u001b[0m\n\u001b[0;32m   4913\u001b[0m \u001b[1;33m\u001b[0m\u001b[0m\n\u001b[0;32m   4914\u001b[0m         \u001b[1;32mif\u001b[0m \u001b[0mis_list_like\u001b[0m\u001b[1;33m(\u001b[0m\u001b[0mvalue\u001b[0m\u001b[1;33m)\u001b[0m\u001b[1;33m:\u001b[0m\u001b[1;33m\u001b[0m\u001b[1;33m\u001b[0m\u001b[0m\n\u001b[1;32m-> 4915\u001b[1;33m             \u001b[0mcom\u001b[0m\u001b[1;33m.\u001b[0m\u001b[0mrequire_length_match\u001b[0m\u001b[1;33m(\u001b[0m\u001b[0mvalue\u001b[0m\u001b[1;33m,\u001b[0m \u001b[0mself\u001b[0m\u001b[1;33m.\u001b[0m\u001b[0mindex\u001b[0m\u001b[1;33m)\u001b[0m\u001b[1;33m\u001b[0m\u001b[1;33m\u001b[0m\u001b[0m\n\u001b[0m\u001b[0;32m   4916\u001b[0m         \u001b[1;32mreturn\u001b[0m \u001b[0msanitize_array\u001b[0m\u001b[1;33m(\u001b[0m\u001b[0mvalue\u001b[0m\u001b[1;33m,\u001b[0m \u001b[0mself\u001b[0m\u001b[1;33m.\u001b[0m\u001b[0mindex\u001b[0m\u001b[1;33m,\u001b[0m \u001b[0mcopy\u001b[0m\u001b[1;33m=\u001b[0m\u001b[1;32mTrue\u001b[0m\u001b[1;33m,\u001b[0m \u001b[0mallow_2d\u001b[0m\u001b[1;33m=\u001b[0m\u001b[1;32mTrue\u001b[0m\u001b[1;33m)\u001b[0m\u001b[1;33m\u001b[0m\u001b[1;33m\u001b[0m\u001b[0m\n\u001b[0;32m   4917\u001b[0m \u001b[1;33m\u001b[0m\u001b[0m\n",
      "\u001b[1;32m~\\anaconda3\\lib\\site-packages\\pandas\\core\\common.py\u001b[0m in \u001b[0;36mrequire_length_match\u001b[1;34m(data, index)\u001b[0m\n\u001b[0;32m    569\u001b[0m     \"\"\"\n\u001b[0;32m    570\u001b[0m     \u001b[1;32mif\u001b[0m \u001b[0mlen\u001b[0m\u001b[1;33m(\u001b[0m\u001b[0mdata\u001b[0m\u001b[1;33m)\u001b[0m \u001b[1;33m!=\u001b[0m \u001b[0mlen\u001b[0m\u001b[1;33m(\u001b[0m\u001b[0mindex\u001b[0m\u001b[1;33m)\u001b[0m\u001b[1;33m:\u001b[0m\u001b[1;33m\u001b[0m\u001b[1;33m\u001b[0m\u001b[0m\n\u001b[1;32m--> 571\u001b[1;33m         raise ValueError(\n\u001b[0m\u001b[0;32m    572\u001b[0m             \u001b[1;34m\"Length of values \"\u001b[0m\u001b[1;33m\u001b[0m\u001b[1;33m\u001b[0m\u001b[0m\n\u001b[0;32m    573\u001b[0m             \u001b[1;34mf\"({len(data)}) \"\u001b[0m\u001b[1;33m\u001b[0m\u001b[1;33m\u001b[0m\u001b[0m\n",
      "\u001b[1;31mValueError\u001b[0m: Length of values (140534) does not match length of index (200764)"
     ]
    }
   ],
   "source": [
    "# присваивание меток кластера \n",
    "\n",
    "# train_test_df['class'] = kmeans.labels_"
   ]
  },
  {
   "cell_type": "code",
   "execution_count": null,
   "id": "ebd3bb89",
   "metadata": {},
   "outputs": [],
   "source": [
    "# выделение каждого кластера из общего датасета \n",
    "\n",
    "# df_0 = train_test_df[train_test_df['class'] = 0]\n",
    "# df_1 = train_test_df[train_test_df['class'] = 1]\n",
    "# df_2 = train_test_df[train_test_df['class'] = 2]\n",
    "# df_3 = train_test_df[train_test_df['class'] = 3]\n",
    "# df_4 = train_test_df[train_test_df['class'] = 4]\n",
    "\n",
    "\n",
    "# stack_cluster=[df_0, df_1, df_2, df_3, df_4]"
   ]
  },
  {
   "cell_type": "code",
   "execution_count": null,
   "id": "159c10a8",
   "metadata": {},
   "outputs": [],
   "source": [
    "# разделение данных на сессии \n",
    "\n",
    "#Сессии пользователей (remote_addr)\n",
    "# finally_stack_cluster = []\n",
    "\n",
    "# for cluster_data in stack_cluster:\n",
    "#     event_df = cluster_data\n",
    "#     event_df.sort_values(by=['remote_addr','http_user_agent', 'time_local'], inplace=True)\n",
    "#     event_df['time_diff'] = event_df.groupby(['remote_addr','http_user_agent'])['time_local'].diff(1)\n",
    "#     max_session_gap = pd.Timedelta(seconds=30)\n",
    "#     session_mask = (event_df['time_diff'].isnull()) | (event_df['time_diff'].fillna(pd.Timedelta(seconds=0)) > max_session_gap)\n",
    "#     event_df['session_id'] = (session_mask).cumsum()\n",
    "#     #Время, проведенное на странице\n",
    "#     event_df.sort_values(by=['remote_addr', 'time_local', 'session_id'], inplace=True)\n",
    "#     event_df['time_on_page'] = event_df.groupby(['remote_addr','session_id'])['time_local'].diff(1)\n",
    "\n",
    "#     #Перевод времени, проведенное на странице в секунды\n",
    "#     event_df['time_on_page'] = event_df['time_on_page'].dt.total_seconds()\n",
    "\n",
    "\n",
    "#     #События, которые были первыми в сессии\n",
    "#     event_df['is_first_event_in_session'] = event_df.groupby('session_id').cumcount() == 0\n",
    "\n",
    "#     event_df = event_df.sort_index()\n",
    "#     finally_stack_cluster.append(event_df)"
   ]
  },
  {
   "cell_type": "code",
   "execution_count": null,
   "id": "b9c4a71d",
   "metadata": {},
   "outputs": [],
   "source": [
    "# построение марковских цепей\n",
    "\n",
    "\n"
   ]
  }
 ],
 "metadata": {
  "kernelspec": {
   "display_name": "Python 3",
   "language": "python",
   "name": "python3"
  },
  "language_info": {
   "codemirror_mode": {
    "name": "ipython",
    "version": 3
   },
   "file_extension": ".py",
   "mimetype": "text/x-python",
   "name": "python",
   "nbconvert_exporter": "python",
   "pygments_lexer": "ipython3",
   "version": "3.9.7"
  }
 },
 "nbformat": 4,
 "nbformat_minor": 5
}
